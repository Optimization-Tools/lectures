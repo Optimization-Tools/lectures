{
 "cells": [
  {
   "cell_type": "markdown",
   "metadata": {},
   "source": [
    "# 1. Estatísticas de Ordem\n",
    "\n",
    "Nesta aula, estudaremos assuntos relacionados à temática de estatísticas de ordem.\n",
    "\n",
    "## 1.1. Problemas de Seleção\n",
    "\n",
    "Problemas de **seleção** são comumente encontrados em nosso cotidiano. Suponha que estejamos interessados em determinar o $i$-ésimo menor elemento de um conjunto $A$ com $n$ elementos. Como alguns casos particulares importantes, podemos citar:\n",
    "* Menor elemento: $i=1$\n",
    "* Maior elemento: $i=n$\n",
    "\n",
    "Para obter o **menor** elemento de um conjunto de dados, podemos considerar a seguinte implementação:"
   ]
  },
  {
   "cell_type": "code",
   "execution_count": 1,
   "metadata": {},
   "outputs": [],
   "source": [
    "def Min(A):\n",
    "    \n",
    "    n = len(A)\n",
    "    min = A[i]\n",
    "    \n",
    "    for i in range(1,n):\n",
    "        if(min < A[i]):\n",
    "            min = A[i]\n",
    "    \n",
    "    return min"
   ]
  },
  {
   "cell_type": "code",
   "execution_count": null,
   "metadata": {},
   "outputs": [],
   "source": []
  }
 ],
 "metadata": {
  "kernelspec": {
   "display_name": "Python 3",
   "language": "python",
   "name": "python3"
  },
  "language_info": {
   "codemirror_mode": {
    "name": "ipython",
    "version": 3
   },
   "file_extension": ".py",
   "mimetype": "text/x-python",
   "name": "python",
   "nbconvert_exporter": "python",
   "pygments_lexer": "ipython3",
   "version": "3.7.4"
  }
 },
 "nbformat": 4,
 "nbformat_minor": 2
}
