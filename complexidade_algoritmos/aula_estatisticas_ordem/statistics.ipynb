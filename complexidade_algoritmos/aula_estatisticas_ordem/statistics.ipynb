{
 "cells": [
  {
   "cell_type": "markdown",
   "metadata": {},
   "source": [
    "# 1. Estatísticas de Ordem\n",
    "\n",
    "Nesta aula, estudaremos assuntos relacionados à temática de estatísticas de ordem.\n",
    "\n",
    "## 1.1. Problema de Seleção\n",
    "\n",
    "Problemas de **seleção** são comumente encontrados em nosso cotidiano. Suponha que estejamos interessados em determinar o $i$-ésimo menor elemento de um conjunto $A$ com $n$ elementos. Como alguns casos particulares importantes, podemos citar:\n",
    "* Menor elemento: $i=1$\n",
    "* Maior elemento: $i=n$\n",
    "\n",
    "Para obter o **menor** elemento de um conjunto de dados, podemos considerar a seguinte implementação:"
   ]
  },
  {
   "cell_type": "code",
   "execution_count": 109,
   "metadata": {},
   "outputs": [],
   "source": [
    "import numpy\n",
    "global counter"
   ]
  },
  {
   "cell_type": "code",
   "execution_count": 110,
   "metadata": {},
   "outputs": [],
   "source": [
    "def Min(A):\n",
    "    \n",
    "    n = len(A)\n",
    "    min = A[0]\n",
    "    \n",
    "    for i in range(1,n):\n",
    "        if(A[i] < min):\n",
    "            min = A[i]\n",
    "    \n",
    "    return min"
   ]
  },
  {
   "cell_type": "markdown",
   "metadata": {},
   "source": [
    "No algoritmo acima, o temos $n-1$ comparações, ou seja, encontrar o menor elemento em um conjunto de dados quaisquer possui complexidade de tempo de $\\theta(n)$. Exemplo de funcionamento:"
   ]
  },
  {
   "cell_type": "code",
   "execution_count": 111,
   "metadata": {},
   "outputs": [
    {
     "name": "stdout",
     "output_type": "stream",
     "text": [
      "Vetor de entrada: [12 17  7  9 17  9  7 16  9 18 12 12 10 10 12  2 15  0 13  7]\n",
      "Menor elemento: 0\n"
     ]
    }
   ],
   "source": [
    "A = numpy.random.randint(0, 20, 20)\n",
    "print('Vetor de entrada: '+ str(A))\n",
    "print('Menor elemento: '+ str(Min(A)))"
   ]
  },
  {
   "cell_type": "markdown",
   "metadata": {},
   "source": [
    "Suponha, agora, que desejemos encontrar o **menor** e o **maior** valor de um conjunto de dados quaisquer $A$ com $n$ elementos. Podemos considerar a seguinte implementação:"
   ]
  },
  {
   "cell_type": "code",
   "execution_count": 112,
   "metadata": {},
   "outputs": [],
   "source": [
    "def Min_Max(A):\n",
    "    \n",
    "    n = len(A)\n",
    "    min = max = A[0]\n",
    "    counter = 0 # armazena o número de comparações\n",
    "    \n",
    "    for i in range(1, n):\n",
    "        \n",
    "        counter = counter + 1\n",
    "        if(A[i] < min):\n",
    "            min = A[i]\n",
    "        \n",
    "        counter = counter + 1\n",
    "        if(A[i] > max):\n",
    "            max = A[i]\n",
    "    \n",
    "    return min,max,counter"
   ]
  },
  {
   "cell_type": "markdown",
   "metadata": {},
   "source": [
    "No algoritmo acima, temos $2(n-1)\\in\\theta(n)$ comparações, ou seja, encontrar o menor e o maior elemento em um conjunto de dados quaisquer possui complexidade de tempo de $\\theta(n)$. Exemplo de funcionamento:"
   ]
  },
  {
   "cell_type": "code",
   "execution_count": 113,
   "metadata": {},
   "outputs": [
    {
     "name": "stdout",
     "output_type": "stream",
     "text": [
      "Vetor de entrada: [ 6 11  1  2  3  5 10 19  2  7 17 18 16 12  5  9  0  4 17  9]\n",
      "Menor elemento: 0\n",
      "Maior elemento: 19\n",
      "Número de elementos: 20\n",
      "Número de comparações: 38\n"
     ]
    }
   ],
   "source": [
    "A = numpy.random.randint(0, 20, 20)\n",
    "print('Vetor de entrada: '+ str(A))\n",
    "min, max, counter = Min_Max(A)\n",
    "print('Menor elemento: '+ str(min))\n",
    "print('Maior elemento: '+ str(max))\n",
    "print('Número de elementos: '+ str(len(A)))\n",
    "print('Número de comparações: '+ str(counter))"
   ]
  },
  {
   "cell_type": "code",
   "execution_count": 114,
   "metadata": {},
   "outputs": [],
   "source": [
    "def Min_Max_Melhorado(A):\n",
    "    \n",
    "    n = len(A)\n",
    "    counter = 0 # armazena o número de compações\n",
    "    \n",
    "    if(n % 2 == 1):\n",
    "        min = max = A[0]\n",
    "        i = 1\n",
    "    else:\n",
    "        i = 2\n",
    "        if(A[0] < A[1]):\n",
    "            min = A[0]\n",
    "            max = A[1]\n",
    "        else:\n",
    "            min = A[1]\n",
    "            max = A[0]\n",
    "        \n",
    "    while (i+1 < n):\n",
    "        \n",
    "        counter = counter + 1\n",
    "        if(A[i] > A[i+1]):\n",
    "            counter = counter + 1\n",
    "            if(A[i] > max):\n",
    "                max = A[i]\n",
    "        else:\n",
    "            counter = counter + 1\n",
    "            if(A[i] < min):\n",
    "                min = A[i]\n",
    "        \n",
    "        i = i+2\n",
    "        \n",
    "    return min,max,counter"
   ]
  },
  {
   "cell_type": "markdown",
   "metadata": {},
   "source": [
    "Entretanto, podemos projetar uma versão mais rápida do algoritmo acima, na qual processamos os elementos por **pares**. A ideia consiste em comparar o menor atual com o menor elemento do par, bem como o maior valor atual com o maior elemento do par. Quando $n$ é **ímpar**, inicializamos o menor e maior valores como sendo o primeiro elemento do conjunto de dados. Caso contrário, inicializamos o máximo e mínimo comparando os dois primeiros elementos do conjunto de dados. \n",
    "\n",
    "Nesta versão melhorada, realizamos $2n/2-2=n-2\\in\\theta(n)$ comparações, ou seja, como o índice $i$ é incrementado em duas unidades, o laço executa $n/2$ vezes, sendo que temos $2$ comparações em cada iteração do mesmo. Desta forma, perfazemos $2n/2$ comparações. Como o primeiro par, em geral, já foi comparado antes da execução do laço, subamtraímos duas unidades do número de comparações anterior, ou seja, $2n/2-2 = n-2$. Muito embora ambas versões possuam a mesma complexidade nominal, o algoritmo `Min_Max_Melhorado` realiza um número menor de comparações na prática."
   ]
  },
  {
   "cell_type": "code",
   "execution_count": 115,
   "metadata": {},
   "outputs": [
    {
     "name": "stdout",
     "output_type": "stream",
     "text": [
      "Vetor de entrada: [14 19  8  4  6 18 17 16  0  4  5 17 12 12  4  9 18  9 11  3]\n",
      "Menor elemento: 0\n",
      "Maior elemento: 19\n",
      "Número de elementos: 20\n",
      "Número de comparações: 18\n"
     ]
    }
   ],
   "source": [
    "A = numpy.random.randint(0, 20, 20)\n",
    "print('Vetor de entrada: '+ str(A))\n",
    "min, max, counter = Min_Max_Melhorado(A)\n",
    "print('Menor elemento: '+ str(min))\n",
    "print('Maior elemento: '+ str(max))\n",
    "print('Número de elementos: '+ str(len(A)))\n",
    "print('Número de comparações: '+ str(counter))"
   ]
  },
  {
   "cell_type": "markdown",
   "metadata": {},
   "source": [
    "Suponha, agora, que desejemos encontrar o $i$-ésimo menor elemento do vetor $A$. Uma solução simples seria a seguinte:\n",
    "\n",
    "1. Ordene o vetor A.\n",
    "2. Retorne A[i]\n",
    "\n",
    "A complexidade desta solução depende, então, da complexidade do algoritmo de ordenação utilizado no passo 1. Opções boas são o Mergesort e o Heapsort, os quais possuem complexidade de tempo de $\\theta(n\\log n)$. Como o passo 2 possui complexidade $\\theta(1)$, então a complexidade de tempo final da ideia acima é de $\\theta(n\\log n)$.\n",
    "\n",
    "No entanto, existem outras soluções que melhoram essa complexidade. Retomemos ao **problema da partição**, em que a ideia é: dado um vetor $A[i\\ldots f]$, devolver um índice $p$ tal que $A[e\\ldots p-1]\\leq A[p]\\leq A[p+1\\ldots d]$. A Figura 1 ilustra essa situação.\n",
    "<br><br>\n",
    "\n",
    "<figure>\n",
    "<img src=\"figs/selection_problem.png\" width=\"51%\" />\n",
    "<figcaption>Figura 1: Problema de partição.</figcaption>\n",
    "</figure>\n",
    "\n",
    "O algoritmo abaixo implementação a função de partição que foi utilizada na técnica Quicksort."
   ]
  },
  {
   "cell_type": "code",
   "execution_count": 116,
   "metadata": {},
   "outputs": [
    {
     "name": "stdout",
     "output_type": "stream",
     "text": [
      "Vetor de entrada: [-20  -4   5 -13   0   4 -20  15  15  19]\n",
      "Vetor de saída: [-20  -4   5 -13   0   4 -20  15  15  19]\n",
      "Posição do pivô: 9\n"
     ]
    }
   ],
   "source": [
    "def Partition(A, e, d):\n",
    "    pivot = A[d]\n",
    "    p_index = e\n",
    "\n",
    "    for i in range(e,d):\n",
    "        if (A[i] <= pivot):\n",
    "            A[i], A[p_index] = A[p_index], A[i]\n",
    "            p_index = p_index + 1\n",
    "        \n",
    "    A[p_index], A[d] = A[d], A[p_index]\n",
    "\n",
    "    return p_index\n",
    "\n",
    "n = 10 # número de elementos do vetor A\n",
    "A = numpy.random.randint(-20, 20, n)\n",
    "print('Vetor de entrada: '+ str(A))\n",
    "p = Partition(A, 0, n-1)\n",
    "print('Vetor de saída: '+ str(A))\n",
    "print('Posição do pivô: '+ str(p))"
   ]
  },
  {
   "cell_type": "markdown",
   "metadata": {},
   "source": [
    "Note que o algoritmo acima possui um único laço que roda $\\theta(n)$ vezes, como vimos na aula de Quicksort. Podemos, então, utilizá-lo para resolver o problema de selecionar o $i$-ésimo elemento de um vetor de elementos quaisquer. Desta forma, temos as seguintes situações após a execução da função `Partition` acima:\n",
    "1. Se $p=i$, então problema resolvido!\n",
    "2. Se $i<p$, então a solução do problema está em encontrar o $i$-ésimo menor elemento em $A[e\\ldots p-1]$.\n",
    "3. Caso contrário, ou seja, se $i>p$, então a solução do problema está em encontrar o $(i-p)$-ésimo menor elemento em em $A[p+1\\ldots d]$.\n",
    "\n",
    "Para os casos descritos nos itens 2 e 3, basta executar o algoritmo de `Partition` recursivamente até o índice desejado for atingido, conforme implementado abaixo."
   ]
  },
  {
   "cell_type": "code",
   "execution_count": 117,
   "metadata": {},
   "outputs": [],
   "source": [
    "def Select(A, e, d, i):\n",
    "    global counter\n",
    "    \n",
    "    if(e == d):\n",
    "        return A[e]\n",
    "    \n",
    "    p = Partition(A, e, d)\n",
    "    \n",
    "    k = p-e+1 # p está na k-ésima posição de A\n",
    "    if(k == i):\n",
    "        return A[p]\n",
    "    elif(i < k):\n",
    "        counter = counter + 1 \n",
    "        return Select(A, e, p-1, i)\n",
    "    else:\n",
    "        counter = counter + 1 \n",
    "        return Select(A, p+1, d, i-k)\n",
    "        "
   ]
  },
  {
   "cell_type": "markdown",
   "metadata": {},
   "source": [
    "Exemplo de funcionamento:"
   ]
  },
  {
   "cell_type": "code",
   "execution_count": 118,
   "metadata": {},
   "outputs": [
    {
     "name": "stdout",
     "output_type": "stream",
     "text": [
      "Vetor de entrada: [ -1   8   0 -13   9 -10  19  11   8  19]\n",
      "Elemento desejado: -1\n"
     ]
    }
   ],
   "source": [
    "counter = 1 # conta quantas chamadas recursivas foram realizadas\n",
    "n = 10 # número de elementos do vetor A\n",
    "i = 3 # posição do i-ésimo menor elemento\n",
    "A = numpy.random.randint(-20, 20, n)\n",
    "print('Vetor de entrada: '+ str(A))\n",
    "x = Select(A, 0, n-1, i)\n",
    "print('Elemento desejado: '+ str(x))"
   ]
  },
  {
   "cell_type": "markdown",
   "metadata": {},
   "source": [
    "A função `Select` possui uma chamada à função `Partition` que, como descrito anteriormente, possui complexidade de tempo de $\\theta(n)$. Em seguida, caso a execução do algoritmo continue na condição $i<k$, temos que a função `Select` pode ser chamada $O(k-1)$ vezes, que seria o **tamanho do lado esquerdo** do vetor, ou seja, o lado que possui elementos menores ou iguais ao pivô. Caso contrário, a função `Select` poderia ser chamada $O(n-k)$ vezes, que corresponde ao **tamanho do lado direito** do vetor, ou seja, o lado que possui elementos maiores ou iguais ao pivô.\n",
    "\n",
    "Assim sendo, a complexidade de tempo da função `Select` corresponde ao pior dos casos entre $O(k-1)$ e $O(n-k)$, ou seja, temos a seguinte relação de recorrência:\n",
    "\n",
    "\\begin{equation}\n",
    "\\label{e.recurrence_select_i}\n",
    "\\tag{1}\n",
    "T(n) = \\max_{1\\leq k\\leq n}\\{T(k-1),T(n-k)\\}+\\theta(n).\n",
    "\\end{equation}\n",
    "\n",
    "Note que, de maneira semelhante ao algoritmo Quicksort, a complexidade depende da posição do pivô. No pior caso, isto é, quando $k=n-1$, ou seja, quando o pivô está localizado na última posição do pivô, temos que a relação de recorrência é dada por:\n",
    "\n",
    "\\begin{equation}\n",
    "\\label{e.recurrence_worst_select_i}\n",
    "\\tag{2}\n",
    "T(n) = T(n-1)+\\theta(n),\n",
    "\\end{equation}\n",
    "a qual, como visto anteriormente, resulta em uma complexidade $O(n^2)$. \n",
    "\n",
    "Entretanto, podemos mostrar que, no **caso médio**, a função `Select` tem complexidade de $O(n)$. A ideia é partir da premissa que o pivô possui probabilidade de estar localizado em qualquer posição do vetor, mas que na maioria das vezes ele acaba dividindo o conjunto de dados em dois subconjuntos com tamanhos similares.\n",
    "\n",
    "Agora, vamos realizar uma pequena alteração na função `Partition` para que ela escolha o pivô de maneira **aleatória**, e não como sendo o **último** elemento do vetor. Chamaremos essa função de `Partition_Random`, bem como chamaremos de `Select_Random` sua versão modificada que faz uso do pivô escolhido de maneira aleatória."
   ]
  },
  {
   "cell_type": "code",
   "execution_count": 119,
   "metadata": {},
   "outputs": [],
   "source": [
    "def Partition_Random(A, e, d):\n",
    "\n",
    "    # aqui estão as mudanças *****\n",
    "    j = numpy.random.randint(e, d)\n",
    "    pivot = A[j] \n",
    "    A[j], A[d] = A[d], A[j]\n",
    "    # ****************************\n",
    "    \n",
    "    p_index = e\n",
    "\n",
    "    for i in range(e,d):\n",
    "        if (A[i] <= pivot):\n",
    "            A[i], A[p_index] = A[p_index], A[i]\n",
    "            p_index = p_index + 1\n",
    "        \n",
    "    A[p_index], A[d] = A[d], A[p_index]\n",
    "\n",
    "    return p_index\n",
    "\n",
    "def Select_Random(A, e, d, i):\n",
    "    global counter\n",
    "    \n",
    "    if(e == d):\n",
    "        return A[e]\n",
    "    \n",
    "    p = Partition_Random(A, e, d)\n",
    "    \n",
    "    k = p-e+1 # p está na k-ésima posição de A\n",
    "    if(k == i):\n",
    "        return A[p]\n",
    "    elif(i < k):\n",
    "        counter = counter + 1\n",
    "        return Select_Random(A, e, p-1, i)\n",
    "    else:\n",
    "        counter = counter + 1\n",
    "        return Select_Random(A, p+1, d, i-k)"
   ]
  },
  {
   "cell_type": "markdown",
   "metadata": {},
   "source": [
    "Exemplo de funcionamento:"
   ]
  },
  {
   "cell_type": "code",
   "execution_count": 144,
   "metadata": {},
   "outputs": [
    {
     "name": "stdout",
     "output_type": "stream",
     "text": [
      "Vetor de entrada: [  8  -7 -19  13 -18 -17 -14  -5 -11   8]\n",
      "Número de chamadas recursivas para a função Select: 4\n",
      "Elemento: -17\n",
      "Número de chamadas recursivas para a função Select_Random: 1\n",
      "Elemento: -17\n"
     ]
    }
   ],
   "source": [
    "counter = 1 # conta quantas chamadas recursivas foram realizadas\n",
    "n = 10 # número de elementos do vetor A\n",
    "i = 3 # posição do i-ésimo menor elemento\n",
    "A = numpy.random.randint(-20, 20, n)\n",
    "print('Vetor de entrada: '+ str(A))\n",
    "x = Select(A, 0, n-1, i)\n",
    "print('Número de chamadas recursivas para a função Select: '+ str(counter))\n",
    "print(\"Elemento: \"+ str(x))\n",
    "counter = 1\n",
    "x = Select_Random(A, 0, n-1, i)\n",
    "print('Número de chamadas recursivas para a função Select_Random: '+ str(counter))\n",
    "print(\"Elemento: \"+ str(x))"
   ]
  },
  {
   "cell_type": "markdown",
   "metadata": {},
   "source": [
    "Pode se constatar que, na"
   ]
  }
 ],
 "metadata": {
  "kernelspec": {
   "display_name": "Python 3",
   "language": "python",
   "name": "python3"
  },
  "language_info": {
   "codemirror_mode": {
    "name": "ipython",
    "version": 3
   },
   "file_extension": ".py",
   "mimetype": "text/x-python",
   "name": "python",
   "nbconvert_exporter": "python",
   "pygments_lexer": "ipython3",
   "version": "3.7.4"
  }
 },
 "nbformat": 4,
 "nbformat_minor": 2
}
