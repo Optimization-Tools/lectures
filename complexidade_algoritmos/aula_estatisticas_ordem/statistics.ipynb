{
 "cells": [
  {
   "cell_type": "markdown",
   "metadata": {},
   "source": [
    "# 1. Estatísticas de Ordem\n",
    "\n",
    "Nesta aula, estudaremos assuntos relacionados à temática de estatísticas de ordem.\n",
    "\n",
    "## 1.1. Problemas de Seleção\n",
    "\n",
    "Problemas de **seleção** são comumente encontrados em nosso cotidiano. Suponha que estejamos interessados em determinar o $i$-ésimo menor elemento de um conjunto $A$ com $n$ elementos. Como alguns casos particulares importantes, podemos citar:\n",
    "* Menor elemento: $i=1$\n",
    "* Maior elemento: $i=n$\n",
    "\n",
    "Para obter o **menor** elemento de um conjunto de dados, podemos considerar a seguinte implementação:"
   ]
  },
  {
   "cell_type": "code",
   "execution_count": 3,
   "metadata": {},
   "outputs": [],
   "source": [
    "import numpy"
   ]
  },
  {
   "cell_type": "code",
   "execution_count": 9,
   "metadata": {},
   "outputs": [],
   "source": [
    "def Min(A):\n",
    "    \n",
    "    n = len(A)\n",
    "    min = A[0]\n",
    "    \n",
    "    for i in range(1,n):\n",
    "        if(A[i] < min):\n",
    "            min = A[i]\n",
    "    \n",
    "    return min"
   ]
  },
  {
   "cell_type": "markdown",
   "metadata": {},
   "source": [
    "Exemplo de funcionamento:"
   ]
  },
  {
   "cell_type": "code",
   "execution_count": 12,
   "metadata": {},
   "outputs": [
    {
     "name": "stdout",
     "output_type": "stream",
     "text": [
      "Vetor de entrada: [ 2  6 19 11 13 19  7 12  4  1  1 16  9  3 18 15  6 12 16  0]\n",
      "Menor elemento: 19\n"
     ]
    }
   ],
   "source": [
    "A = numpy.random.randint(0, 20, 20)\n",
    "print('Vetor de entrada: '+ str(A))\n",
    "print('Menor elemento: '+ str(Min(A)))"
   ]
  },
  {
   "cell_type": "code",
   "execution_count": null,
   "metadata": {},
   "outputs": [],
   "source": []
  }
 ],
 "metadata": {
  "kernelspec": {
   "display_name": "Python 3",
   "language": "python",
   "name": "python3"
  },
  "language_info": {
   "codemirror_mode": {
    "name": "ipython",
    "version": 3
   },
   "file_extension": ".py",
   "mimetype": "text/x-python",
   "name": "python",
   "nbconvert_exporter": "python",
   "pygments_lexer": "ipython3",
   "version": "3.7.4"
  }
 },
 "nbformat": 4,
 "nbformat_minor": 2
}
