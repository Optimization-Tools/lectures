{
 "cells": [
  {
   "cell_type": "markdown",
   "metadata": {},
   "source": [
    "# 1. Estatísticas de Ordem\n",
    "\n",
    "Nesta aula, estudaremos assuntos relacionados à temática de estatísticas de ordem.\n",
    "\n",
    "## 1.1. Problemas de Seleção\n",
    "\n",
    "Problemas de **seleção** são comumente encontrados em nosso cotidiano. Suponha que estejamos interessados em determinar o $i$-ésimo menor elemento de um conjunto $A$ com $n$ elementos. Como alguns casos particulares importantes, podemos citar:\n",
    "* Menor elemento: $i=1$\n",
    "* Maior elemento: $i=n$\n",
    "\n",
    "Para obter o **menor** elemento de um conjunto de dados, podemos considerar a seguinte implementação:"
   ]
  },
  {
   "cell_type": "code",
   "execution_count": 3,
   "metadata": {},
   "outputs": [],
   "source": [
    "import numpy"
   ]
  },
  {
   "cell_type": "code",
   "execution_count": 17,
   "metadata": {},
   "outputs": [],
   "source": [
    "def Min(A):\n",
    "    \n",
    "    n = len(A)\n",
    "    min = A[0]\n",
    "    \n",
    "    for i in range(1,n):\n",
    "        if(A[i] < min):\n",
    "            min = A[i]\n",
    "    \n",
    "    return min"
   ]
  },
  {
   "cell_type": "markdown",
   "metadata": {},
   "source": [
    "No algoritmo acima, o temos $n-1$ comparações, ou seja, encontrar o menor elemento em um conjunto de dados quaisquer possui complexidade de tempo de $\\theta(n)$. Exemplo de funcionamento:"
   ]
  },
  {
   "cell_type": "code",
   "execution_count": 18,
   "metadata": {},
   "outputs": [
    {
     "name": "stdout",
     "output_type": "stream",
     "text": [
      "Vetor de entrada: [ 7  9 13 13  5 11 17 15 12 17  4 14 13 12  7 14  1  0  5 18]\n",
      "Menor elemento: 0\n"
     ]
    }
   ],
   "source": [
    "A = numpy.random.randint(0, 20, 20)\n",
    "print('Vetor de entrada: '+ str(A))\n",
    "print('Menor elemento: '+ str(Min(A)))"
   ]
  },
  {
   "cell_type": "markdown",
   "metadata": {},
   "source": [
    "Suponha, agora, que desejemos encontrar o **menor** e o **maior** valor de um conjunto de dados quaisquer $A$ com $n$ elementos. Podemos considerar a seguinte implementação:"
   ]
  },
  {
   "cell_type": "code",
   "execution_count": 39,
   "metadata": {},
   "outputs": [],
   "source": [
    "def Min_Max(A):\n",
    "    \n",
    "    n = len(A)\n",
    "    min = max = A[0]\n",
    "    counter = 0 # armazena o número de comparações\n",
    "    \n",
    "    for i in range(1, n):\n",
    "        \n",
    "        counter = counter + 1\n",
    "        if(A[i] < min):\n",
    "            min = A[i]\n",
    "        \n",
    "        counter = counter + 1\n",
    "        if(A[i] > max):\n",
    "            max = A[i]\n",
    "    \n",
    "    return min,max,counter"
   ]
  },
  {
   "cell_type": "markdown",
   "metadata": {},
   "source": [
    "No algoritmo acima, temos $2(n-1)\\in\\theta(n)$ comparações, ou seja, encontrar o menor e o maior elemento em um conjunto de dados quaisquer possui complexidade de tempo de $\\theta(n)$. Exemplo de funcionamento:"
   ]
  },
  {
   "cell_type": "code",
   "execution_count": 42,
   "metadata": {},
   "outputs": [
    {
     "name": "stdout",
     "output_type": "stream",
     "text": [
      "Vetor de entrada: [19 13  7  1 15  7 16 13  6 16  3 16  7  4  9 15  5  6 14  2]\n",
      "Menor elemento: 1\n",
      "Maior elemento: 19\n",
      "Número de elementos: 20\n",
      "Número de comparações: 38\n"
     ]
    }
   ],
   "source": [
    "A = numpy.random.randint(0, 20, 20)\n",
    "print('Vetor de entrada: '+ str(A))\n",
    "min, max, counter = Min_Max(A)\n",
    "print('Menor elemento: '+ str(min))\n",
    "print('Maior elemento: '+ str(max))\n",
    "print('Número de elementos: '+ str(len(A)))\n",
    "print('Número de comparações: '+ str(counter))"
   ]
  },
  {
   "cell_type": "code",
   "execution_count": 45,
   "metadata": {},
   "outputs": [],
   "source": [
    "def Min_Max_Melhorado(A):\n",
    "    \n",
    "    n = len(A)\n",
    "    counter = 0 # armazena o número de compações\n",
    "    \n",
    "    if(n % 2 == 1):\n",
    "        min = max = A[0]\n",
    "        i = 1\n",
    "    else:\n",
    "        i = 2\n",
    "        if(A[0] < A[1]):\n",
    "            min = A[0]\n",
    "            max = A[1]\n",
    "        else:\n",
    "            min = A[1]\n",
    "            max = A[0]\n",
    "        \n",
    "    while (i+1 < n):\n",
    "        \n",
    "        counter = counter + 1\n",
    "        if(A[i] > A[i+1]):\n",
    "            counter = counter + 1\n",
    "            if(A[i] > max):\n",
    "                max = A[i]\n",
    "        else:\n",
    "            counter = counter + 1\n",
    "            if(A[i] < min):\n",
    "                min = A[i]\n",
    "        \n",
    "        i = i+2\n",
    "        \n",
    "    return min,max,counter"
   ]
  },
  {
   "cell_type": "markdown",
   "metadata": {},
   "source": [
    "Entretanto, podemos projetar uma versão mais rápida do algoritmo acima, na qual processamos os elementos por **pares**. A ideia consiste em comparar o menor atual com o menor elemento do par, bem como o maior valor atual com o maior elemento do par. Quando $n$ é **ímpar**, inicializamos o menor e maior valores como sendo o primeiro elemento do conjunto de dados. Caso contrário, inicializamos o máximo e mínimo comparando os dois primeiros elementos do conjunto de dados. \n",
    "\n",
    "Nesta versão melhorada, realizamos $2n/2-2=n-2\\in\\theta(n)$ comparações, ou seja, como o índice $i$ é incrementado em duas unidades, o laço executa $n/2$ vezes, sendo que temos $2$ comparações em cada iteração do mesmo. Desta forma, perfazemos $2n/2$ comparações. Como o primeiro par, em geral, já foi comparado antes da execução do laço, subamtraímos duas unidades do número de comparações anterior, ou seja, $2n/2-2 = n-2$. Muito embora ambas versões possuam a mesma complexidade nominal, o algoritmo `Min_Max_Melhorado` realiza um número menor de comparações na prática."
   ]
  },
  {
   "cell_type": "code",
   "execution_count": 51,
   "metadata": {},
   "outputs": [
    {
     "name": "stdout",
     "output_type": "stream",
     "text": [
      "Vetor de entrada: [15 16  4  0  6  7  8 19  7 11 12 14 10 17 16 10 14 16  1 11]\n",
      "Menor elemento: 1\n",
      "Maior elemento: 16\n",
      "Número de elementos: 20\n",
      "Número de comparações: 18\n"
     ]
    }
   ],
   "source": [
    "A = numpy.random.randint(0, 20, 20)\n",
    "print('Vetor de entrada: '+ str(A))\n",
    "min, max, counter = Min_Max_Melhorado(A)\n",
    "print('Menor elemento: '+ str(min))\n",
    "print('Maior elemento: '+ str(max))\n",
    "print('Número de elementos: '+ str(len(A)))\n",
    "print('Número de comparações: '+ str(counter))"
   ]
  }
 ],
 "metadata": {
  "kernelspec": {
   "display_name": "Python 3",
   "language": "python",
   "name": "python3"
  },
  "language_info": {
   "codemirror_mode": {
    "name": "ipython",
    "version": 3
   },
   "file_extension": ".py",
   "mimetype": "text/x-python",
   "name": "python",
   "nbconvert_exporter": "python",
   "pygments_lexer": "ipython3",
   "version": "3.7.4"
  }
 },
 "nbformat": 4,
 "nbformat_minor": 2
}
