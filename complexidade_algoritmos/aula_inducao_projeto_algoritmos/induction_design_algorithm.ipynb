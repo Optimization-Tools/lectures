{
 "cells": [
  {
   "cell_type": "markdown",
   "metadata": {},
   "source": [
    "# 1. Indução e Projeto de Algoritmos\n",
    "\n",
    "## 1.1. Prova por Indução\n",
    "\n",
    "Técnicas de demonstração por indução possuem grande importância na área de Ciência da Computação, pois permitem o desenvolvimento de um raciocínio construtivo que evidencia os passos necessários para a construção da solução de determinados problemas. Desta forma, além de serem úteis para provarmos teoremas, podem ser utilizadas para formularmos procedimentos **recursivo*s* e **indutivos**.\n",
    "\n",
    "Existem, basicamente, dois tipos de indução: **fraca** e **forte**. Ambos tipos seguem os seguintes passos durante o desenvolvimento de uma prova:\n",
    "1. Base\n",
    "2. Hipótese de indução\n",
    "3. Passo de indução\n",
    "\n",
    "\n",
    "- <u>Príncipio da indução fraca</u>: sejam $P_n$ afirmações que podem ser verdadeira ou falsas associadas à cada inteiro positivo $n\\geq k$. Se $P_k$ é verdadeiro e, para cada inteiro positivo $j\\geq k$, se $P_j$ é verdadeiro, então $P_{j+1}$ também o é. Assim sendo, $P_n$ é verdadeiro para todo inteiro positivo $n\\geq k$.\n",
    "- <u>Princípio da indução forte</u>: para alguns problemas, para provarmos que $P_{j+1}$ é verdadeiro, temos que assumir a veracidade de todo $P_i$, $k\\leq i\\leq j$. Assim, novamente, vamos assumir que tenhamos $P_n$ afirmações que podem ser verdadeira ou falsas associadas à cada inteiro positivo $n\\geq k$. Se $P_k$ é verdadeiro e, para cada inteiro positivo $j\\geq k$, se $P_k,P_{k+1}\\ldots,P_j$ são verdadeiros, então $P_{j+1}$ também o é. Assim sendo, $P_n$ é verdadeiro para todo inteiro positivo $n\\geq k$.\n",
    "\n",
    "Vejamos, agora, um exemplo de prova por **indução fraca**. Prove que a seguinte inequalidade é verdadeira:\n",
    "\n",
    "\\begin{equation}\n",
    "\\tag{1}\n",
    "\\frac{1}{2}+\\frac{1}{4}+\\frac{1}{8}+\\ldots+\\frac{1}{2^n}<1\\ \\ \\ \\ \\ \\text{    para }n\\geq1.\n",
    "\\end{equation}\n",
    "\n",
    "1. Primeiro, vamos provar a **base**, ou seja, vamos provar que a inequalidade é verdadeira para $n=1$. Neste caso, temos que $\\frac{1}{2}<1$, ou seja, a afirmação é verdadeira.\n",
    "2. O segundo passo consiste em assumir que a **hipótese** é verdadeira, ou seja, a inequalidade dada pela Equação 1 é verdadeira.\n",
    "3. Em seguida, utilizando a hipótese de indução, provamos que a inequalidade acima é valida para $n+1$, ou seja, temos que provar que $\\frac{1}{2}+\\frac{1}{4}+\\frac{1}{8}+\\ldots+\\frac{1}{2^{n+1}}<1$. Temos, então, que:\n",
    "\n",
    "\\begin{equation}\n",
    "\\tag{2}\n",
    "\\frac{1}{2}+\\frac{1}{4}+\\frac{1}{8}+\\ldots+\\frac{1}{2^{n+1}} < 1,\n",
    "\\end{equation}\n",
    "que pode ser também escrita da seguinte forma:\n",
    "\n",
    "\\begin{equation}\n",
    "\\tag{3}\n",
    "\\frac{1}{2}+\\frac{1}{4}+\\frac{1}{8}+\\ldots+\\frac{1}{2^n}+\\frac{1}{2^{n+1}} < 1.\n",
    "\\end{equation}\n",
    "\n",
    "Reescrevendo a Equação 3, temos que:\n",
    "\\begin{align}\n",
    "\\tag{4}\n",
    "\\frac{1}{2}+\\frac{1}{2}\\left(\\frac{1}{2}+\\frac{1}{4}+\\ldots+\\frac{1}{2^n}\\right) &< 1 \\\\\n",
    "\\frac{1}{2}\\left(\\frac{1}{2}+\\frac{1}{4}+\\ldots+\\frac{1}{2^n}\\right) &< 1-\\frac{1}{2} \\\\\n",
    "\\frac{1}{2}\\left(\\frac{1}{2}+\\frac{1}{4}+\\ldots+\\frac{1}{2^n}\\right) &< \\frac{1}{2} \\\\\n",
    "\\end{align}\n",
    "\n",
    "Agora, suponha $x = \\frac{1}{2}+\\frac{1}{4}+\\ldots+\\frac{1}{2^n}$ de tal forma que a Equação 4 possa ser escrita da seguinte forma:\n",
    "\n",
    "\\begin{equation}\n",
    "\\tag{5}\n",
    "\\frac{1}{2}x < \\frac{1}{2}.\n",
    "\\end{equation}\n",
    "Por hipótese de indução, temos que $x<1$. Desta forma, a Equação 5 é verdadeira, como queríamos demonstrar.\n",
    "\n",
    "Vejamos um outro exemplo de prova por **indução fraca**. Vamos provar que a seguinte equação é verdadeira:\n",
    "\n",
    "\\begin{equation}\n",
    "\\tag{6}\n",
    "1+2+3+\\ldots+n = \\frac{n(n+1)}{2}\\ \\ \\ \\ \\ \\text{    para }n\\geq1.\n",
    "\\end{equation}\n",
    "\n",
    "1. Base: para $n=1$, temos que $1 = \\frac{1+1}{2} = \\frac{2}{2}$. Portanto, a base é verdadeira.\n",
    "2. Hipótese de indução: vamos assumir que a Equação 6 é verdadeira para $n\\geq 1$.\n",
    "3. Passo de indução: vamos provar que a Equação 6 é válida para $n+1$. Assim sendo, temos que:\n",
    "\n",
    "\\begin{equation}\n",
    "\\tag{7}\n",
    "1+2+3+\\ldots+(n+1) = \\frac{(n+1)((n+1)+1)}{2}\\ \\ \\ \\ \\ \\text{    para }n\\geq1.\n",
    "\\end{equation}\n",
    "\n",
    "A Equação 7 pode ser reescrita da seguinte maneira:\n",
    "\n",
    "\\begin{align}\n",
    "\\tag{8}\n",
    "1+2+3+\\ldots+n+(n+1) &= \\frac{n(n+1)}{2}+(n+1)\\\\\n",
    "&=\\frac{n(n+1)+2(n+1)}{2}\\\\\n",
    "&=\\frac{(n+1)(n+2)}{2}\\\\\n",
    "&=\\frac{(n+1)((n+1)+1)}{2}.\n",
    "\\end{align}\n",
    "Assim sendo, provamos o passo de indução.\n",
    "\n",
    "Vejamos, agora, um exemplo de prova por **indução forte**. Seja a sequência $a_1,a_2,a_3,\\ldots,a_n$ tal que $a_1 = $, $a_2 = 0$ e $a_k = 3a_{\\lfloor k/2\\rfloor}+2$ para $k\\geq 3$. Prove que $a_n$ é par para $n \\geq 1$.\n",
    "\n",
    "1. Base: para $n=1$ e $n=2$ a base é verdadeira já que $a_1 = 0$ e $a_2 = 2$.\n",
    "2. Hipótese de indução: vamos supor que $a_k$ é par para $1\\leq k<n$.\n",
    "3. Vamos provar que $a_n$ é par. Pela definição acima, temos que $a_n=3a_{\\lfloor n/2\\rfloor}+2$. Pela hipótese de indução, temos que o temos $a_{\\lfloor n/2\\rfloor}$ é par. Assim, o termo $3a_{\\lfloor n/2\\rfloor}$ também é par, ou seja, a multiplicação de um número ímpar por um número par resulta em um outro número par. Dado que o termo $3a_{\\lfloor n/2\\rfloor}$ é par, temos que $3a_{\\lfloor n/2\\rfloor}+2$ também é par. Assim sendo, provamos que $a_n$ é par para $n\\geq 3$. \n",
    "\n",
    "## 1.2. Projeto de Algoritmos por Indução\n",
    "\n",
    "Podemos fazer uso das técnicas de prova por indução para projetar algoritmos visando a resolução de diversos problemas, isto é, o desenvolvimento do algoritmo será dado de maneira análoga ao desenvolvimento de uma demonstração por indução. A complexidade final é dada por meio de uma análise de recorrência.\n",
    "\n",
    "O projeto de algoritmos por indução resulta em soluções recursivas, em que:\n",
    "\n",
    "- A base de indução corresponde ao critério de parada do algoritmo.\n",
    "- A aplicação da hipótese de indução corresponde às chamadas recursivas.\n",
    "- O passo de indução corresponde ao processo de obtenção da resposta final, ou seja, solução do algoritmo.\n",
    "Como benefício imediato, temos que o uso correto da técnica nos dá uma prova de corretude do algoritmo.\n",
    "\n",
    "Vejamos um exemplo de projeto de algoritmos por indução. Suponha o seguinte problema: dada uma sequência de números reais $a_n,a_{n-1},a_{n-2},\\ldots,a_1,a_0$ e um número real $x$, calcular o valor do seguinte polinômio:\n",
    "\n",
    "\\begin{equation}\n",
    "\\tag{9}\n",
    "P_n(x) = a_nx^n+a_{n-1}x^{n-1}+\\ldots+a_1x+a_0.\n",
    "\\end{equation}\n",
    "\n",
    "Como vimos anteriormente, podemos demonstrar que conseguimos resolver o problema acima da seguinte maneira:\n",
    "\n",
    "1. Base: Neste caso, temos que $n=0$ e a solução do problema seria $a_0$.\n",
    "2. Hipótese de indução: suponha que consigamos calcular $P_{n-1}(x)$.\n",
    "3. Passo de indução: para calcular $P_n(x)$ basta realizarmos a seguinte operação: $P_n(x) = P_{n-1}(x)+a_nx^n$.\n",
    "Pronto, o algoritmo está projetado conforme os passos que aprendemos em uma demonstração por indução. Basta, agora, implementarmos a solução acima conforme o seguinte algoritmo:"
   ]
  },
  {
   "cell_type": "code",
   "execution_count": 55,
   "metadata": {},
   "outputs": [],
   "source": [
    "import numpy\n",
    "import math"
   ]
  },
  {
   "cell_type": "code",
   "execution_count": 56,
   "metadata": {},
   "outputs": [],
   "source": [
    "def P_n(A, n, x):\n",
    "    \n",
    "    if n == 0: # Caso base\n",
    "        return A[0]\n",
    "    else:\n",
    "        tmp = A[n]*math.pow(x, n)\n",
    "        \n",
    "        return tmp + P_n(A, n-1, x) # Hipótese de indução\n",
    "            "
   ]
  },
  {
   "cell_type": "markdown",
   "metadata": {},
   "source": [
    "Exemplo de funcionamento:"
   ]
  },
  {
   "cell_type": "code",
   "execution_count": 57,
   "metadata": {},
   "outputs": [
    {
     "name": "stdout",
     "output_type": "stream",
     "text": [
      "Vetor de entrada: [2 5 5 0 3]\n",
      "Resultado: 80.0\n"
     ]
    }
   ],
   "source": [
    "n = 4\n",
    "x = 2\n",
    "A = numpy.random.randint(0, 10, n+1)\n",
    "print('Vetor de entrada: '+ str(A))\n",
    "out = P_n(A, n, x)\n",
    "print('Resultado: '+ str(out))"
   ]
  },
  {
   "cell_type": "markdown",
   "metadata": {},
   "source": [
    "Vamos agora, calcular a complexidade de nossa solução acima. Como temos um algoritmos recursivo, podemos fazer uso da análise de recorrência, como apresentado abaixo:\n",
    "\n",
    "\\begin{equation}\n",
    "\\tag{10}\n",
    "T(n) =\n",
    "    \\begin{cases}\n",
    "      1 & \\text{se $n=0$}\\\\\n",
    "      T(n-1) + f(n)& \\text{caso contrário,}\n",
    "    \\end{cases}  \n",
    "\\end{equation}\n",
    "em que $f(n)$ corresponde ao número de multiplicações e adições. Em nosso caso, o residual $f(n)$ corresponde à linha do algoritmo acima ``tmp = A[n]*math.pow(x, n)``, em que temos $n+1$ multiplicações. Ademais, devemos considerar a adição realizada na hipótese de indução na linha ``return tmp + P_n(A, n-1, x)``. Em suma, temos $n+1$ multiplicações e uma operação de adição.\n",
    "\n",
    "Podemos, então, reescrever a Equação 10 da seguinte forma:\n",
    "\n",
    "\\begin{equation}\n",
    "\\tag{11}\n",
    "T(n) =\n",
    "    \\begin{cases}\n",
    "      1 & \\text{se $n=0$}\\\\\n",
    "      T(n-1) + [(n+1) \\text{ multiplicações} + 1 \\text{ adição}]& \\text{caso contrário.}\n",
    "    \\end{cases}  \n",
    "\\end{equation}\n",
    "\n",
    "Mais especificamente, temos que:\n",
    "\n",
    "\\begin{align}\n",
    "\\tag{12}\n",
    "T(n) & = \\sum_{i=1}^n [(n+1) \\text{ multiplicações} + 1 \\text{ adição}]\\\\\n",
    "    &= \\sum_{i=1}^n [(n+1) \\text{ multiplicações}] + \\sum_{i=1}^n 1 \\text{ adição}\\\\\n",
    "    &= \\sum_{i=1}^n [(n+1) \\text{ multiplicações}] + n\\text{ adições}\\\\\n",
    "    &= \\sum_{i=1}^n [n \\text{ multiplicações}] + \\sum_{i=1}^n [1 \\text{ multiplicação}] + n\\text{ adições}\\\\\n",
    "    &= \\sum_{i=1}^n [n \\text{ multiplicações}] + n \\text{ multiplicações} + n\\text{ adições}\\\\\n",
    "    &=\\frac{n(n+1)}{2}+n \\text{ multiplicações} + n\\text{ adições}.\n",
    "\\end{align}  \n",
    "\n",
    "No entanto, conseguimos melhorar essa complexidade assumindo uma hipótese de indução \"mais forte\". Suponha, agora, que saibamos calcular $P_{n-1}(x)$ e também o valor de $x^{n-1}$. Neste caso, o caso base $n=0$ possui como solução o par $(a_0,1)$. Desta forma, temos uma segunda versão de nosso algoritmo:"
   ]
  },
  {
   "cell_type": "code",
   "execution_count": 58,
   "metadata": {},
   "outputs": [],
   "source": [
    "def P_n2(A, n, x):\n",
    "    \n",
    "    if n == 0: # Caso base\n",
    "        return (A[0], 1)\n",
    "    else:\n",
    "        \n",
    "        (tmp_P, tmp_x) = P_n2(A, n-1, x)\n",
    "        x_n = x*tmp_x\n",
    "        \n",
    "        return (tmp_P + A[n]*x_n, x_n) # Hipótese de indução"
   ]
  },
  {
   "cell_type": "markdown",
   "metadata": {},
   "source": [
    "Exemplo de funcionamento:"
   ]
  },
  {
   "cell_type": "code",
   "execution_count": 59,
   "metadata": {},
   "outputs": [
    {
     "name": "stdout",
     "output_type": "stream",
     "text": [
      "Vetor de entrada: [2 5 5 0 3]\n",
      "Resultado: 80\n"
     ]
    }
   ],
   "source": [
    "print('Vetor de entrada: '+ str(A))\n",
    "(out, tmp) = P_n2(A, n, x)\n",
    "print('Resultado: '+ str(out))"
   ]
  },
  {
   "cell_type": "markdown",
   "metadata": {},
   "source": [
    "O próximo passo consiste na análise da complexidade de nossa segunda solução. Temos, agora, a seguinte relação de recorrência:\n",
    "\n",
    "\\begin{equation}\n",
    "\\tag{13}\n",
    "T(n) =\n",
    "    \\begin{cases}\n",
    "      1 & \\text{se $n=0$}\\\\\n",
    "      T(n-1) + [2\\text{ multiplicações} + 1\\text{ adição}]& \\text{caso contrário.}\n",
    "    \\end{cases}  \n",
    "\\end{equation}\n",
    "\n",
    "A solução da recorrência é dada por:\n",
    "\n",
    "\\begin{align}\n",
    "\\tag{14}\n",
    "T(n) &= \\sum_{i=1}^n [2\\text{ multiplicações} + 1\\text{ adição}]\\\\\n",
    "    &= 2\\sum_{i=1}^n [1\\text{ multiplicação}] + \\sum_{i=1}^n [1\\text{ adição}]\\\\\n",
    "    &= 2n \\text{ multiplicações} + n \\text{ adições}.\n",
    "\\end{align}\n",
    "\n",
    "Temos, ainda, uma terceira soluição, que envolve uma hipótese de indução **ainda mais forte**. Suponha, agora, que consigamos calcular $P^\\prime_{n-1}(x)=a_nx^{n-1}+a_{n-1}x^{n-2}+\\ldots+a_1$. Note que $P_n(x) = xP^\\prime_{n-1}(x)+a_0$.\n",
    "\n",
    "Temos que o caso base $n=0$ para a abordagem acima é trivial, ou seha, $a_0 = 0$. O algoritmo para essa terceira versão é dado como segue:"
   ]
  },
  {
   "cell_type": "code",
   "execution_count": 60,
   "metadata": {},
   "outputs": [],
   "source": [
    "def P_n3(A, n, x):\n",
    "    \n",
    "    if n == 0: # Caso base\n",
    "        return A[0]\n",
    "    else:\n",
    "        tmp_P = P_n3(A, n-1, x)      \n",
    "        \n",
    "        return x*tmp_P + A[0] # Hipótese de indução"
   ]
  },
  {
   "cell_type": "markdown",
   "metadata": {},
   "source": [
    "Exemplo de funcionamento:"
   ]
  },
  {
   "cell_type": "code",
   "execution_count": 61,
   "metadata": {},
   "outputs": [
    {
     "name": "stdout",
     "output_type": "stream",
     "text": [
      "Vetor de entrada: [2 5 5 0 3]\n",
      "Resultado: 62\n"
     ]
    }
   ],
   "source": [
    "print('Vetor de entrada: '+ str(A))\n",
    "out = P_n3(A, n, x)\n",
    "print('Resultado: '+ str(out))"
   ]
  },
  {
   "cell_type": "markdown",
   "metadata": {},
   "source": [
    "Neste caso, temos a seguinte relação de recorrência:\n",
    "\n",
    "\\begin{equation}\n",
    "\\tag{15}\n",
    "T(n) =\n",
    "    \\begin{cases}\n",
    "      1 & \\text{se $n=0$}\\\\\n",
    "      T(n-1) + [1\\text{ multiplicação} + 1\\text{ adição}]& \\text{caso contrário.}\n",
    "    \\end{cases}  \n",
    "\\end{equation}\n",
    "\n",
    "A solução da recorrência é dada por:\n",
    "\n",
    "\\begin{align}\n",
    "\\tag{16}\n",
    "T(n) &= \\sum_{i=1}^n [1\\text{ multiplicação} + 1\\text{ adição}]\\\\\n",
    "    &= \\sum_{i=1}^n [1\\text{ multiplicação}] + \\sum_{i=1}^n [1\\text{ adição}]\\\\\n",
    "    &= n \\text{ multiplicações} + n \\text{ adições}.\n",
    "\\end{align}\n",
    "\n",
    "Assim sendo, podemos perceber que, dependendo da \"força\" da hipótese de indução, conseguimos implementar algoritmos mais eficientes.\n",
    "\n",
    "<font size=\"1\">Este conteúdo foi elaborado com base em notas de aulas dos Profs. Pedro Jussieu Rezende e Zanoni Dias (Instiuto de Computação, Unicamp).</font>"
   ]
  }
 ],
 "metadata": {
  "kernelspec": {
   "display_name": "Python 3",
   "language": "python",
   "name": "python3"
  },
  "language_info": {
   "codemirror_mode": {
    "name": "ipython",
    "version": 3
   },
   "file_extension": ".py",
   "mimetype": "text/x-python",
   "name": "python",
   "nbconvert_exporter": "python",
   "pygments_lexer": "ipython3",
   "version": "3.7.4"
  }
 },
 "nbformat": 4,
 "nbformat_minor": 2
}
