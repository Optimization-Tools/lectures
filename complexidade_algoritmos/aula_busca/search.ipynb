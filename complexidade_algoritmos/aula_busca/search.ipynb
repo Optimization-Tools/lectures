{
 "cells": [
  {
   "cell_type": "markdown",
   "metadata": {},
   "source": [
    "# 1. Algoritmos de Busca\n",
    "\n",
    "## 1.1. Busca Linear\n",
    "\n",
    "O algoritmo de Busca Linear, também conhecido por **Busca Sequencial**, é uma das técnicas mais simples para buscar um determinado valor em um conjunto qualquer de elementos. De maneira geral, a técnica consiste em comparar todos os elementos do conjunto de dados com o valor desejado de maneira **sequencial**. Caso o elemento seja encontrado, a busca então pode ser **interrompida**.\n",
    "\n",
    "O algoritmo abaixo implementa a técnica Busca Linear, cuja análise de complexidade é dada da seguinte maneira:\n",
    "* Complexidade de tempo no melhor caso: $\\theta(1)$\n",
    "* Complexidade de tempo no pior caso: $O(n)$"
   ]
  },
  {
   "cell_type": "code",
   "execution_count": 1,
   "metadata": {},
   "outputs": [],
   "source": [
    "import numpy\n",
    "import math"
   ]
  },
  {
   "cell_type": "code",
   "execution_count": 2,
   "metadata": {},
   "outputs": [],
   "source": [
    "def Linear_Search(A, x):\n",
    "    n = len(A)\n",
    "    found = False\n",
    "    \n",
    "    i = 0\n",
    "    while (i < n)and (not found):\n",
    "        if(A[i] == x):\n",
    "            found = True\n",
    "        else:\n",
    "            i = i+ 1\n",
    "    \n",
    "    return found"
   ]
  },
  {
   "cell_type": "markdown",
   "metadata": {},
   "source": [
    "Exemplo de funcionamento:"
   ]
  },
  {
   "cell_type": "code",
   "execution_count": 3,
   "metadata": {},
   "outputs": [
    {
     "name": "stdout",
     "output_type": "stream",
     "text": [
      "Vetor de entrada: [3 2 5 9 2 3 5 6 9 9]\n",
      "Elemento a ser procurado: 3\n",
      "Valor encontrado? True\n"
     ]
    }
   ],
   "source": [
    "A = numpy.random.randint(-0, 10, 10)\n",
    "x = numpy.random.randint(10)\n",
    "print('Vetor de entrada: '+ str(A))\n",
    "print('Elemento a ser procurado: '+ str(x))\n",
    "print('Valor encontrado? '+ str(Linear_Search(A, x)))"
   ]
  },
  {
   "cell_type": "markdown",
   "metadata": {},
   "source": [
    "No caso de o elemento a ser procurado estiver na **primeira** posição do vetor, então a complexidade de busca será de $\\theta(1)$. Note que essa situação não está restrita apenas à primeira posição, pois o estudo do comportamento assintótico de funções dá-se quando $n\\rightarrow\\infty$. Desta forma, caso o elemento a ser procurado estiver entre os $k$ primeiros elementos do vetor e $k<<n$, ainda podemos considerar uma complexidade constante, ou seja, $\\theta(1)$. Já o pior caso dá-se quando o elemento a ser procurado está na **última** posição do vetor, ou **não foi encontrado** neste. Nesta situação, temos que $n$ comparações foram consideradas. Assim sendo, como não sabemos a comportamento dos dados, denotamos a complexidade da Busca Linear como sendo $O(n)$."
   ]
  },
  {
   "cell_type": "markdown",
   "metadata": {},
   "source": [
    "## 1.2. Busca Binária\n",
    "\n",
    "Dependendo da situação, podemos utilizar diferentes técnicas para buscar elementos em um conjunto de dados. Suponha que agora tenhamos um conjunto de dados que esteja **ordenado**. Para fins de explicação apenas, utilizaremos um conjunto ordenado de forma crescente. Podemos, então, nos beneficiar desta informação realizando a busca em partes menores do conjunto de dados, visto que sabemos se o elemento desejado é menor ou maior do que o elemento que está sendo comparado. \n",
    "\n",
    "O algoritmo da Busca Binária funciona desta forma, em que o elemento **central** do vetor é comparado com o dado desejado. Caso seja este o elemento, então a busca é interrompida. Caso contrário, isto é, se o elemento desejado for **menor** do que o valor comparado, então a busca começa na metade à **esquerda** deste valor, ou na metade à **direita** caso o elemento desejado seja maior do que o valor comparado. A Figura 1 ilustra o procedimento adotado pela busca binária.\n",
    "<br><br>\n",
    "\n",
    "<figure>\n",
    "<img src=\"figs/binary_search.png\" width=\"31%\" />\n",
    "<figcaption>Figura 1: Funcionamento da técnica Busca Binária, em que o elemento vermelho é o desejado.</figcaption>\n",
    "</figure>\n",
    "\n",
    "Note que, para o exemplo acima, temos um vetor com $7$ elementos e, no pior caso, foram necessárias $3$ comparações. De maneira análoga, caso tenhamos um vetor com $16$ elementos, no pior caso serão necessárias $4$ comparações para acharmos o valor desejado ou o algoritmo parar sua execução. Essa análise nos permite assumir que, para um vetor com $2^n$ elementos, serão necessárias, no máximo, $n$ comparações para achar o elemento desejado (caso este exista).\n",
    "\n",
    "O algoritmo abaixo implementa a técnica Busca Linear, cuja análise de complexidade é dada da seguinte maneira:\n",
    "* Complexidade de tempo no melhor caso: $\\theta(1)$\n",
    "* Complexidade de tempo no pior caso: $O(n\\log n)$"
   ]
  },
  {
   "cell_type": "code",
   "execution_count": 81,
   "metadata": {},
   "outputs": [],
   "source": [
    "def Binary_Search(A, e, d, x):\n",
    "    \n",
    "    if(d >= e):\n",
    "        m = (e+d)//2 # calculando o elemento central\n",
    "    \n",
    "        if(A[m] == x):\n",
    "            return True\n",
    "        elif(A[m] > x):\n",
    "            return Binary_Search(A, e, m-1, x)\n",
    "        else:\n",
    "            return Binary_Search(A, m+1, d, x)\n",
    "    else:\n",
    "        return False"
   ]
  },
  {
   "cell_type": "markdown",
   "metadata": {},
   "source": [
    "Exemplo de funcionamento:"
   ]
  },
  {
   "cell_type": "code",
   "execution_count": 87,
   "metadata": {},
   "outputs": [
    {
     "name": "stdout",
     "output_type": "stream",
     "text": [
      "Vetor de entrada: [ 3  7  8  9 10 14 15 15 17 19]\n",
      "Elemento a ser procurado: 7\n",
      "Valor encontrado? True\n"
     ]
    }
   ],
   "source": [
    "A = numpy.random.randint(-0, 20, 10)\n",
    "A.sort()\n",
    "x = numpy.random.randint(10)\n",
    "print('Vetor de entrada: '+ str(A))\n",
    "print('Elemento a ser procurado: '+ str(x))\n",
    "print('Valor encontrado? '+ str(Binary_Search(A, 0, 9, x)))"
   ]
  },
  {
   "cell_type": "code",
   "execution_count": null,
   "metadata": {},
   "outputs": [],
   "source": []
  }
 ],
 "metadata": {
  "kernelspec": {
   "display_name": "Python 3",
   "language": "python",
   "name": "python3"
  },
  "language_info": {
   "codemirror_mode": {
    "name": "ipython",
    "version": 3
   },
   "file_extension": ".py",
   "mimetype": "text/x-python",
   "name": "python",
   "nbconvert_exporter": "python",
   "pygments_lexer": "ipython3",
   "version": "3.7.4"
  }
 },
 "nbformat": 4,
 "nbformat_minor": 2
}
