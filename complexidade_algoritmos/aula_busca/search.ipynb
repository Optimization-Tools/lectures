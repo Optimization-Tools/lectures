{
 "cells": [
  {
   "cell_type": "markdown",
   "metadata": {},
   "source": [
    "# 1. Algoritmos de Busca\n",
    "\n",
    "## 1.1. Busca Linear\n",
    "\n",
    "O algoritmo de Busca Linear, também conhecido por **Busca Sequencial**, é uma das técnicas mais simples para buscar um determinado valor em um conjunto qualquer de elementos. De maneira geral, a técnica consiste em comparar todos os elementos do conjunto de dados com o valor desejado de maneira **sequencial**. Caso o elemento seja encontrado, a busca então pode ser **interrompida**.\n",
    "\n",
    "O algoritmo abaixo implementa a técnica Busca Linear, cuja análise de complexidade é dada da seguinte maneira:\n",
    "* Complexidade de tempo no melhor caso: $\\theta(1)$\n",
    "* Complexidade de tempo no pior caso: $O(n)$"
   ]
  },
  {
   "cell_type": "code",
   "execution_count": 24,
   "metadata": {},
   "outputs": [],
   "source": [
    "import numpy\n",
    "import math"
   ]
  },
  {
   "cell_type": "code",
   "execution_count": 25,
   "metadata": {},
   "outputs": [],
   "source": [
    "def Linear_Search(A, e):\n",
    "    n = len(A)\n",
    "    found = False\n",
    "    \n",
    "    i = 0\n",
    "    while (i < n)and (not found):\n",
    "        if(A[i] == e):\n",
    "            found = True\n",
    "        else:\n",
    "            i = i+ 1\n",
    "    \n",
    "    return found"
   ]
  },
  {
   "cell_type": "markdown",
   "metadata": {},
   "source": [
    "Exemplo de funcionamento:"
   ]
  },
  {
   "cell_type": "code",
   "execution_count": 26,
   "metadata": {},
   "outputs": [
    {
     "name": "stdout",
     "output_type": "stream",
     "text": [
      "Vetor de entrada: [8 6 8 4 1 2 9 8 3 4]\n",
      "Elemento a ser procurado: 2\n",
      "Valor encontrado? True\n"
     ]
    }
   ],
   "source": [
    "A = numpy.random.randint(-0, 10, 10)\n",
    "e = numpy.random.randint(10)\n",
    "print('Vetor de entrada: '+ str(A))\n",
    "print('Elemento a ser procurado: '+ str(e))\n",
    "print('Valor encontrado? '+ str(Linear_Search(A, e)))"
   ]
  },
  {
   "cell_type": "markdown",
   "metadata": {},
   "source": [
    "No caso de o elemento a ser procurado estiver na **primeira** posição do vetor, então a complexidade de busca será de $\\theta(1)$. Note que essa situação não está restrita apenas à primeira posição, pois o estudo do comportamento assintótico de funções dá-se quando $n\\rightarrow\\infty$. Desta forma, caso o elemento a ser procurado estiver entre os $k$ primeiros elementos do vetor e $k<<n$, ainda podemos considerar uma complexidade constante, ou seja, $\\theta(1)$. Já o pior caso dá-se quando o elemento a ser procurado está na **última** posição do vetor, ou **não foi encontrado** neste. Nesta situação, temos que $n$ comparações foram consideradas. Assim sendo, como não sabemos a comportamento dos dados, denotamos a complexidade da Busca Linear como sendo $O(n)$."
   ]
  },
  {
   "cell_type": "markdown",
   "metadata": {},
   "source": [
    "## 1.2. Busca Binária\n",
    "\n",
    "Dependendo da situação, podemos utilizar diferentes técnicas para buscar elementos em um conjunto de dados."
   ]
  },
  {
   "cell_type": "code",
   "execution_count": null,
   "metadata": {},
   "outputs": [],
   "source": []
  }
 ],
 "metadata": {
  "kernelspec": {
   "display_name": "Python 3",
   "language": "python",
   "name": "python3"
  },
  "language_info": {
   "codemirror_mode": {
    "name": "ipython",
    "version": 3
   },
   "file_extension": ".py",
   "mimetype": "text/x-python",
   "name": "python",
   "nbconvert_exporter": "python",
   "pygments_lexer": "ipython3",
   "version": "3.7.4"
  }
 },
 "nbformat": 4,
 "nbformat_minor": 2
}
