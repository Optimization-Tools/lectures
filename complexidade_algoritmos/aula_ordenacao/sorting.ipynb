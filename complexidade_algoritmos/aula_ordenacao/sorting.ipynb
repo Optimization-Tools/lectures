{
 "cells": [
  {
   "cell_type": "markdown",
   "metadata": {},
   "source": [
    "# 1. Algoritmos de Ordenação\n",
    "## 1.1. Merge sort\n",
    "\n",
    "O algoritmo de ordenação por Merge sort é baseado na metodologia de **divisão e conquista**, em que o problema principal é dividido em subproblemas que são resolvidos e, posteriormente, agrupados com o intuito de gerar a solução final. A divisão é realizada em $\\theta(1)$, ao passo que a conquista é realizada em $\\theta(n)$. De maneira geral, a ténica realiza divisões no vetor pela metade, até que um único elemento é obtido. Em seguida, o processo de conquista é realizado, em que os elementos são agrupados de maneira ordenada. A Figura 1 apresenta esse processo, em que os elementos cinza denotam a primeira metade do vetor, e os elementos em azul correspondem ao final da etapa de divisão.\n",
    "<br><br>\n",
    "\n",
    "<figure>\n",
    "<img src=\"figs/mergesort.png\" width=\"50%\" />\n",
    "    <figcaption</figcaption>\n",
    "</figure>\n",
    "\n",
    "O algoritmo abaixo implementa a técnica Merge sort.sdsd"
   ]
  },
  {
   "cell_type": "code",
   "execution_count": 5,
   "metadata": {},
   "outputs": [],
   "source": [
    "from matplotlib import pyplot\n",
    "import numpy\n",
    "import math\n",
    "import timeit\n",
    "import queue\n",
    "import sys"
   ]
  },
  {
   "cell_type": "code",
   "execution_count": 6,
   "metadata": {},
   "outputs": [],
   "source": [
    "def MergeSort(A, e, d):\n",
    "    if (d > e):\n",
    "        m = math.floor((e+d)/2) #Divisão é realizada em theta(1)\n",
    "        MergeSort(A, e, m)\n",
    "        MergeSort(A, m+1, d)\n",
    "        \n",
    "        B = numpy.zeros(d+1);\n",
    "        \n",
    "        # Conquista é realizada em theta(n)\n",
    "        \n",
    "        for k in range(0, m+1):\n",
    "            B[k] = A[k]\n",
    "        \n",
    "        j = d\n",
    "        for k in range(m+1, d+1):\n",
    "            B[j] = A[k]\n",
    "            j = j-1\n",
    "        \n",
    "        i = e\n",
    "        j = d\n",
    "        for k in range(e, d+1):\n",
    "            if(B[i] < B[j]):\n",
    "                A[k] = B[i]\n",
    "                i = i+1\n",
    "            else:\n",
    "                A[k] = B[j]\n",
    "                j = j-1"
   ]
  },
  {
   "cell_type": "code",
   "execution_count": 7,
   "metadata": {},
   "outputs": [
    {
     "name": "stdout",
     "output_type": "stream",
     "text": [
      "Sorting ... \n"
     ]
    },
    {
     "data": {
      "image/png": "[encoded data removed]",
      "text/plain": [
       "<Figure size 432x288 with 1 Axes>"
      ]
     },
     "metadata": {
      "needs_background": "light"
     },
     "output_type": "display_data"
    }
   ],
   "source": [
    "q1 = queue.Queue()\n",
    "q2 = queue.Queue()\n",
    "\n",
    "print(\"Sorting ... \")\n",
    "\n",
    "for n in range(10,100, 10):\n",
    "    \n",
    "    A = numpy.random.randint(-20, 20, n) #gera vetor com números inteiros aleatórios\n",
    "\n",
    "    start = timeit.default_timer()\n",
    "    MergeSort(A, 0, n-1)\n",
    "    stop = timeit.default_timer()\n",
    "    execution_time = stop - start\n",
    "    \n",
    "    q1.put(execution_time)\n",
    "    q2.put(n)\n",
    "\n",
    "y = numpy.zeros(q1.qsize())\n",
    "i = 0\n",
    "while not q1.empty():\n",
    "    y[i] = q1.get();\n",
    "    i = i+1;\n",
    "\n",
    "x = numpy.zeros(q2.qsize())\n",
    "i = 0\n",
    "while not q2.empty():\n",
    "    x[i] = q2.get();\n",
    "    i = i+1;\n",
    "\n",
    "# plotando o gráfico\n",
    "pyplot.plot(x,y, color = \"red\")\n",
    "pyplot.xlabel(\"n\")\n",
    "pyplot.ylabel(\"t\")\n",
    "pyplot.suptitle(\"Figura 1: Custo computacional da ordenação por Merge Sort.\")\n",
    "pyplot.show()"
   ]
  },
  {
   "cell_type": "code",
   "execution_count": null,
   "metadata": {},
   "outputs": [],
   "source": []
  }
 ],
 "metadata": {
  "kernelspec": {
   "display_name": "Python 3",
   "language": "python",
   "name": "python3"
  },
  "language_info": {
   "codemirror_mode": {
    "name": "ipython",
    "version": 3
   },
   "file_extension": ".py",
   "mimetype": "text/x-python",
   "name": "python",
   "nbconvert_exporter": "python",
   "pygments_lexer": "ipython3",
   "version": "3.7.4"
  }
 },
 "nbformat": 4,
 "nbformat_minor": 2
}
