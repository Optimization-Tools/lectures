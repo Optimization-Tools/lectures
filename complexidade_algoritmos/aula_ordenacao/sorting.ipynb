{
 "cells": [
  {
   "cell_type": "markdown",
   "metadata": {},
   "source": [
    "# 1. Algoritmos de Ordenação\n",
    "\n",
    "## 1.1. Insertion Sort\n",
    "\n",
    "O algoritmo de ordenação por Insertion sort é indicado em situações nas quais os dados chegam ao **longo do tempo**, dado que a sua premissa consiste em inserir cada elemento em sua posição correta no vetor de dados. A Figura 1 apresenta um exemplo de funcionamento do algoritmo Insertion sort, em que o elemento que está sendo comparado na iteração atual (variável $v$ no algoritmo) encontra-se destacado em amarelo.\n",
    "<br><br>\n",
    "\n",
    "<figure>\n",
    "<img src=\"figs/insertionsort.png\" width=\"27%\" />\n",
    "<figcaption>Figura 1: Funcionamento da técnica Insertion Sort.</figcaption>\n",
    "</figure>\n",
    "\n",
    "O algoritmo abaixo implementa a técnica Insertion sort, cuja análise de complexidade é dada da seguinte maneira:\n",
    "* Complexidade de espaço: $\\theta(n)$\n",
    "* Complexidade de tempo: $O(n^2)$\n",
    "* Estável: Sim\n",
    "* In-place: Sim"
   ]
  },
  {
   "cell_type": "code",
   "execution_count": 18,
   "metadata": {},
   "outputs": [],
   "source": [
    "def InsertionSort(A):\n",
    "    n = len(A)\n",
    "    for i in range(2,n):\n",
    "        v = A[i]\n",
    "        j = i-1\n",
    "\n",
    "        while (A[j] > v) and (j >= 0):\n",
    "            A[j+1] = A[j]\n",
    "            j = j-1\n",
    "        A[j+1] = v\n",
    "        "
   ]
  },
  {
   "cell_type": "markdown",
   "metadata": {},
   "source": [
    "Note que o laço mais **externo** executa $n-1$ vezes, ou seja, $\\theta(n)$ vezes. A complexidade do algoritmo de Insertion sort é dominada pelo laço mais **interno**. Caso tenhamos um vetor ordenado de forma **crescente**, por exemplo, a condição `A[j+1] > v` nunca será satisfeita e, por conseguinte, o laço mais interno não será executado. Nesta situação hipotética, a complexidade seria então dada por $\\theta(n)$, que seria então a situação de **melhor caso** para o Insertion sort.\n",
    "\n",
    "Entretanto, no **pior caso**, ou seja, um vetor ordenado de forma **decrescente**, o laço mais interno será executado $i-1$ vezes para cada valor de $i$. Desta forma, teremos $i(i-1)\\approx i^2$ execuções, resultando em uma complexidade de $O(n^2)$\n",
    "\n",
    "Exemplo de funcionamento:"
   ]
  },
  {
   "cell_type": "code",
   "execution_count": 19,
   "metadata": {},
   "outputs": [
    {
     "name": "stdout",
     "output_type": "stream",
     "text": [
      "Vetor de entrada: [ 16  -2 -12  17  17  19   2   4  14  14]\n",
      "Vetor ordenado: [-12  16  -2   2   4  14  14  17  17  19]\n"
     ]
    }
   ],
   "source": [
    "A = numpy.random.randint(-20, 20, 10)\n",
    "print('Vetor de entrada: '+ str(A))\n",
    "InsertionSort(A)\n",
    "print('Vetor ordenado: '+ str(A))"
   ]
  },
  {
   "cell_type": "markdown",
   "metadata": {},
   "source": [
    "## 1.2. Merge sort\n",
    "\n",
    "O algoritmo de ordenação por Merge sort é baseado na metodologia de **divisão e conquista**, em que o problema principal é dividido em subproblemas que são resolvidos e, posteriormente, agrupados com o intuito de gerar a solução final. A divisão é realizada em $\\theta(1)$, ao passo que a conquista é realizada em $\\theta(n)$. De maneira geral, a ténica realiza divisões no vetor pela metade, até que um único elemento é obtido. Em seguida, o processo de conquista é realizado, em que os elementos são agrupados de maneira ordenada. A Figura 2 apresenta esse processo, em que os elementos cinza denotam a primeira metade do vetor, e os elementos em azul correspondem ao final da etapa de divisão.\n",
    "<br><br>\n",
    "\n",
    "<figure>\n",
    "<img src=\"figs/mergesort.png\" width=\"50%\" />\n",
    "<figcaption>Figura 2: Funcionamento da técnica Merge Sort.</figcaption>\n",
    "</figure>\n",
    "\n",
    "O algoritmo abaixo implementa a técnica Merge sort, cuja análise de complexidade é dada da seguinte maneira:\n",
    "* Complexidade de espaço: 2$\\theta(n)$\n",
    "* Complexidade de tempo: $\\theta(n\\log n)$\n",
    "* Estável: Sim\n",
    "* In-place: Não\n",
    "\n",
    "A complexidade de tempo pode ser calculada por meio do **Teorema Mestre** da seguinte maneira:\n",
    "\n",
    "\\begin{equation}\n",
    "\\tag{1}\n",
    "\\label{e.recurrence_analysis_mergesort_part1}\n",
    "T(n) =\n",
    "    \\begin{cases}\n",
    "      1 & \\text{se $n=1$}\\\\\n",
    "      aT\\left(\\frac{n}{b}\\right) + f(n)& \\text{caso contrário.}\n",
    "    \\end{cases}  \n",
    "\\end{equation}\n",
    "\n",
    "Como pode ser observado, a função `MergeSort` é invocada duas vezes de maneira recursiva, em que cada chamada é realizada em metade do vetor. Desta forma, temos que $a=b=2$. \n",
    "\n",
    "Entretanto, falta ainda analisarmos o termo **residual** $f(n)$ da Equação \\ref{e.recurrence_analysis_mergesort_part1}, o qual é composto por três laços: (i) o primeiro deles copia a primeira metade do vetor de dados de entrada $A$ para o vetor **auxiliar** $B$ e possui complexidade de tempo $\\theta\\left(\\frac{n}{n}\\right)\\in\\theta(n)$; (ii) o segundo laço copia a segunda metade do vetor $A$ em $B$, porém de maneira invertida, e também possui complexidade de tempo $\\theta\\left(\\frac{n}{n}\\right)\\in\\theta(n)$; e (iii) o último laço copia os elementos de $B$ no vetor de dados de entrada $A$ de maneira ordenada, ou seja, nesta etapa é realizada a junção (*merge*) dos dados, e possui complexidade $\\theta(n)$. Desta forma, o termo residual, ou seja, a conquista, possui complexidade $\\theta(n)$.\n",
    "\n",
    "Assim sendo, podemos reescrever a Equação \\ref{e.recurrence_analysis_mergesort_part1} da seguinte maneira:\n",
    "\n",
    "\\begin{equation}\n",
    "\\tag{2}\n",
    "\\label{e.recurrence_analysis_mergesort_part2}\n",
    "T(n) =\n",
    "    \\begin{cases}\n",
    "      1 & \\text{se $n=1$}\\\\\n",
    "      2T\\left(\\frac{n}{2}\\right) + n& \\text{caso contrário.}\n",
    "    \\end{cases}  \n",
    "\\end{equation}\n",
    "O termo residual pode ser mapeado para a forma $cn^k$ assumindo $c=k=1$. Desta forma, de acordo com o Teorema Mestre, a complexidade final de tempo do Merge Sort é dada por $\\theta(n^k\\log_bn)=\\theta(n\\log n)$."
   ]
  },
  {
   "cell_type": "code",
   "execution_count": 20,
   "metadata": {},
   "outputs": [],
   "source": [
    "from matplotlib import pyplot\n",
    "import numpy\n",
    "import math\n",
    "import timeit\n",
    "import queue\n",
    "import sys"
   ]
  },
  {
   "cell_type": "code",
   "execution_count": 21,
   "metadata": {},
   "outputs": [],
   "source": [
    "def MergeSort(A, e, d):\n",
    "    if (d > e):\n",
    "        \n",
    "        #Divisão é realizada em theta(1) *****\n",
    "        m = math.floor((e+d)/2) \n",
    "        MergeSort(A, e, m)\n",
    "        MergeSort(A, m+1, d)\n",
    "        # Fim da divisão **********************\n",
    "        \n",
    "        # Conquista é realizada em theta(n) ***\n",
    "        B = numpy.zeros(d+1);\n",
    "        \n",
    "        for k in range(0, m+1):\n",
    "            B[k] = A[k]\n",
    "        \n",
    "        j = d\n",
    "        for k in range(m+1, d+1):\n",
    "            B[j] = A[k]\n",
    "            j = j-1\n",
    "        \n",
    "        i = e\n",
    "        j = d\n",
    "        for k in range(e, d+1):\n",
    "            if(B[i] < B[j]):\n",
    "                A[k] = B[i]\n",
    "                i = i+1\n",
    "            else:\n",
    "                A[k] = B[j]\n",
    "                j = j-1\n",
    "        # Fim da conquista ********************"
   ]
  },
  {
   "cell_type": "markdown",
   "metadata": {},
   "source": [
    "Exemplo de funcionamento:"
   ]
  },
  {
   "cell_type": "code",
   "execution_count": 22,
   "metadata": {},
   "outputs": [
    {
     "name": "stdout",
     "output_type": "stream",
     "text": [
      "Vetor de entrada: [ 12   6  16 -12  -5 -17  -8   0  17  -3]\n",
      "Vetor ordenado: [-17 -12  -8  -5  -3   0   6  12  16  17]\n"
     ]
    }
   ],
   "source": [
    "A = numpy.random.randint(-20, 20, 10)\n",
    "print('Vetor de entrada: '+ str(A))\n",
    "MergeSort(A, 0, 9)\n",
    "print('Vetor ordenado: '+ str(A))"
   ]
  },
  {
   "cell_type": "markdown",
   "metadata": {},
   "source": [
    " ## 1.3. Quicksort\n",
    " \n",
    "O algoritmo de ordenação Quicksort também é baseado na metodologia de divisão e conquista, em que esta última é realizada em tempo $\\theta(1)$, ao passo que o \"gargalo\" da técnica está justamente na etapa de divisão. O algoritmo faz uso de um elemento denominado **pivô**, e assume que os elementos à **esquerda** deste são menores ou iguais à ele; ao passo que os elementos à sua **direita** são maiores ou iguais ao pivô. Note que, não necessariamente, os elementos que estão à esquerda e à direita estarão ordenados entre si.\n",
    "\n",
    "Desta forma, a complexidade de tempo do Quicksort depende, necessariamente, da **posição** do pivô durate a execução do algoritmo. Se conseguíssemos garantir que o pivô sempre dividisse o vetor de entrada ao meio, então a a complexidade de ordenação seria igual à do Merge sort, ou seja, $\\theta(n\\log n)$. Entretanto, essa garantia não é possível de ser assegurada. A Figura 3 apresenta o funcionamento da técnica Quicksort, em que os elementos à esquerda do pivô são representador pela cor cinza, os elementos azuis correspondem aos valores que são maiores ou iguais ao pivô e, finalmente, o pivô está representado em laranja.\n",
    "<br><br>\n",
    "\n",
    "<figure>\n",
    "<img src=\"figs/quicksort.png\" width=\"37%\" />\n",
    "<figcaption>Figura 3: Funcionamento da técnica Quicksort.</figcaption>\n",
    "</figure>\n",
    "\n",
    "O algoritmo abaixo implementa a técnica Quicksort, cuja análise de complexidade é dada da seguinte maneira:\n",
    "* Complexidade de espaço: $\\theta(n)$\n",
    "* Complexidade de tempo: $O(n^2)$, porém sua complexidade no caso médio é de $O(n\\log n)$\n",
    "* Estável: Não\n",
    "* In-place: Sim\n"
   ]
  },
  {
   "cell_type": "code",
   "execution_count": 9,
   "metadata": {},
   "outputs": [],
   "source": [
    "def Quicksort(A, e, d):\n",
    "    if (d > e):\n",
    "            index = Partition(A, e, d) #função que retorna o novo índice do pivô (elemento laranja)\n",
    "            Quicksort(A, e, index-1) # executa o Quicksort na parte cinza\n",
    "            Quicksort(A, index+1, d) # executa o Quicksort na parte laranja\n",
    "\n",
    "def Partition(A, e, d):\n",
    "    pivot = A[d]\n",
    "    p_index = e\n",
    "\n",
    "    for i in range(e,d):\n",
    "        if (A[i] <= pivot):\n",
    "            A[i], A[p_index] = A[p_index], A[i]\n",
    "            p_index = p_index + 1\n",
    "        \n",
    "    A[p_index], A[d] = A[d], A[p_index]\n",
    "\n",
    "    return p_index"
   ]
  },
  {
   "cell_type": "markdown",
   "metadata": {},
   "source": [
    "Exemplo de funcionamento:"
   ]
  },
  {
   "cell_type": "code",
   "execution_count": 7,
   "metadata": {},
   "outputs": [
    {
     "name": "stdout",
     "output_type": "stream",
     "text": [
      "Vetor de entrada: [  2  17 -16   3  -5  17]\n",
      "Vetor ordenado: [-16  -5   2   3  17  17]\n"
     ]
    }
   ],
   "source": [
    "A = numpy.random.randint(-20, 20, 6)\n",
    "print('Vetor de entrada: '+ str(A))\n",
    "Quicksort(A, 0, 5)\n",
    "print('Vetor ordenado: '+ str(A))"
   ]
  },
  {
   "cell_type": "code",
   "execution_count": null,
   "metadata": {},
   "outputs": [],
   "source": []
  }
 ],
 "metadata": {
  "kernelspec": {
   "display_name": "Python 3",
   "language": "python",
   "name": "python3"
  },
  "language_info": {
   "codemirror_mode": {
    "name": "ipython",
    "version": 3
   },
   "file_extension": ".py",
   "mimetype": "text/x-python",
   "name": "python",
   "nbconvert_exporter": "python",
   "pygments_lexer": "ipython3",
   "version": "3.7.6"
  }
 },
 "nbformat": 4,
 "nbformat_minor": 2
}
