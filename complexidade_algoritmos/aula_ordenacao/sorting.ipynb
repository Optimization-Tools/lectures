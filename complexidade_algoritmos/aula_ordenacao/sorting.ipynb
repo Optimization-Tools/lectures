{
 "cells": [
  {
   "cell_type": "markdown",
   "metadata": {},
   "source": [
    "# 1. Algoritmos de Ordenação\n",
    "## 1.1. Merge sort\n",
    "\n",
    "O algoritmo de ordenação por Merge sort é baseado na metodologia de **divisão e conquista**, em que o problema principal é dividido em subproblemas que são resolvidos e, posteriormente, agrupados com o intuito de gerar a solução final. A divisão é realizada em $\\theta(1)$, ao passo que a conquista é realizada em $\\theta(n)$. De maneira geral, a ténica realiza divisões no vetor pela metade, até que um único elemento é obtido. Em seguida, o processo de conquista é realizado, em que os elementos são agrupados de maneira ordenada. A Figura 1 apresenta esse processo, em que os elementos cinza denotam a primeira metade do vetor, e os elementos em azul correspondem ao final da etapa de divisão.\n",
    "<br><br>\n",
    "\n",
    "<figure>\n",
    "<img src=\"figs/mergesort.png\" width=\"50%\" />\n",
    "<figcaption>Figura 1: Funcionamento da técnica Merge Sort.</figcaption>\n",
    "</figure>\n",
    "\n",
    "O algoritmo abaixo implementa a técnica Merge sort, cuja análise de complexidade é dada da seguinte maneira:\n",
    "* Complexidade de espaço: 2$\\theta(n)$\n",
    "* Complexidade de tempo: $\\theta(n\\log n)$\n",
    "* Estável: Sim\n",
    "* In-place: Não\n",
    "\n",
    "A complexidade de tempo pode ser calculada por meio do **Teorema Mestre** da seguinte maneira:\n",
    "\n",
    "\\begin{equation}\n",
    "\\tag{1}\n",
    "\\label{e.recurrence_analysis_mergesort_part1}\n",
    "T(n) =\n",
    "    \\begin{cases}\n",
    "      1 & \\text{se $n=1$}\\\\\n",
    "      aT\\left(\\frac{n}{b}\\right) + f(n)& \\text{caso contrário.}\n",
    "    \\end{cases}  \n",
    "\\end{equation}\n",
    "\n",
    "Como pode ser observado, a função `MergeSort` é invocada duas vezes de maneira recursiva, em que cada chamada é realizada em metade do vetor. Desta forma, temos que $a=b=2$. \n",
    "\n",
    "Entretanto, falta ainda analisarmos o termo **residual** $f(n)$ da Equação \\ref{e.recurrence_analysis_mergesort_part1}, o qual é composto por três laços: (i) o primeiro deles copia a primeira metade do vetor de dados de entrada $A$ para o vetor **auxiliar** $B$ e possui complexidade de tempo $\\theta\\left(\\frac{n}{n}\\right)\\in\\theta(n)$; (ii) o segundo laço copia a segunda metade do vetor $A$ em $B$, porém de maneira invertida, e também possui complexidade de tempo $\\theta\\left(\\frac{n}{n}\\right)\\in\\theta(n)$; e (iii) o último laço copia os elementos de $B$ no vetor de dados de entrada $A$ de maneira ordenada, ou seja, nesta etapa é realizada a junção (*merge*) dos dados, e possui complexidade $\\theta(n)$. Desta forma, o termo residual, ou seja, a conquista, possui complexidade $\\theta(n)$.\n",
    "\n",
    "Assim sendo, podemos reescrever a Equação \\ref{e.recurrence_analysis_mergesort_part1} da seguinte maneira:\n",
    "\n",
    "\\begin{equation}\n",
    "\\tag{2}\n",
    "\\label{e.recurrence_analysis_mergesort_part2}\n",
    "T(n) =\n",
    "    \\begin{cases}\n",
    "      1 & \\text{se $n=1$}\\\\\n",
    "      2T\\left(\\frac{n}{2}\\right) + n& \\text{caso contrário.}\n",
    "    \\end{cases}  \n",
    "\\end{equation}\n",
    "O termo residual pode ser mapeado para a forma $cn^k$ assumindo $c=k=1$. Desta forma, de acordo com o Teorema Mestre, a complexidade final de tempo do Merge Sort é dada por $\\theta(n^k\\log_bn)=\\theta(n\\log n)$."
   ]
  },
  {
   "cell_type": "code",
   "execution_count": 7,
   "metadata": {},
   "outputs": [],
   "source": [
    "from matplotlib import pyplot\n",
    "import numpy\n",
    "import math\n",
    "import timeit\n",
    "import queue\n",
    "import sys"
   ]
  },
  {
   "cell_type": "code",
   "execution_count": 8,
   "metadata": {},
   "outputs": [],
   "source": [
    "def MergeSort(A, e, d):\n",
    "    if (d > e):\n",
    "        \n",
    "        #Divisão é realizada em theta(1) *****\n",
    "        m = math.floor((e+d)/2) \n",
    "        MergeSort(A, e, m)\n",
    "        MergeSort(A, m+1, d)\n",
    "        # Fim da divisão **********************\n",
    "        \n",
    "        # Conquista é realizada em theta(n) ***\n",
    "        B = numpy.zeros(d+1);\n",
    "        \n",
    "        for k in range(0, m+1):\n",
    "            B[k] = A[k]\n",
    "        \n",
    "        j = d\n",
    "        for k in range(m+1, d+1):\n",
    "            B[j] = A[k]\n",
    "            j = j-1\n",
    "        \n",
    "        i = e\n",
    "        j = d\n",
    "        for k in range(e, d+1):\n",
    "            if(B[i] < B[j]):\n",
    "                A[k] = B[i]\n",
    "                i = i+1\n",
    "            else:\n",
    "                A[k] = B[j]\n",
    "                j = j-1\n",
    "        # Fim da conquista ********************"
   ]
  },
  {
   "cell_type": "markdown",
   "metadata": {},
   "source": [
    " ## 1.2. Quicksort\n",
    " \n",
    "O algoritmo de ordenação Quicksort também é baseado na metodologia de divisão e conquista, em que esta última é realizada em tempo $\\theta(1)$, ao passo que o \"gargalo\" da técnica está justamente na etapa de divisão. O algoritmo faz uso de um elemento denominado **pivô**, e assume que os elementos à **esquerda** deste são menores ou iguais à ele; ao passo que os elementos à sua **direita** são maiores ou iguais ao pivô. Note que, não necessariamente, os elementos que estão à esquerda e à direita estarão ordenados entre si.\n",
    "\n",
    "Desta forma, a complexidade de tempo do Quicksort depende, necessariamente, da **posição** do pivô durate a execução do algoritmo. Se conseguíssemos garantir que o pivô sempre dividisse o vetor de entrada ao meio, então a a complexidade de ordenação seria igual à do Merge sort, ou seja, $\\theta(n\\log n)$. Entretanto, essa garantia não é possível de ser assegurada. A Figura 2 apresenta o funcionamento da técnica Quicksort, em que os elementos à esquerda do pivô são representador pela cor cinza, os elementos azuis correspondem aos valores que são maiores ou iguais ao pivô e, finalmente, o pivô está representado em laranja.\n",
    "<br><br>\n",
    "\n",
    "<figure>\n",
    "<img src=\"figs/quicksort.png\" width=\"27%\" />\n",
    "<figcaption>Figura 2: Funcionamento da técnica Quicksort. Note que este é um exemplo simples, em que as partes cinza e azul encontram-se já ordenadas. Entretanto, como dito anteriormente, não há garantias que isso ocorra. É por este motivo que o algoritmo do Quicksort tem duas chamadas recursivas para cada iteração, isto é, uma chamada para a parte cinza e outra para a cor azul.</figcaption>\n",
    "</figure>\n",
    "\n",
    "O algoritmo abaixo implementa a técnica Quicksort, cuja análise de complexidade é dada da seguinte maneira:\n",
    "* Complexidade de espaço: $\\theta(n)$\n",
    "* Complexidade de tempo: $O(n^2)$, porém sua complexidade no caso médio é de $O(n\\log n)$\n",
    "* Estável: Não\n",
    "* In-place: Sim\n"
   ]
  },
  {
   "cell_type": "code",
   "execution_count": 63,
   "metadata": {},
   "outputs": [],
   "source": [
    "def Quicksort(A, e, d):\n",
    "    if (d > e):\n",
    "            p_index = d # o pivot é sempre o elemento mais à direita\n",
    "            index = Partition(A, e, d, p_index) #função que retorna o novo índice do pivô (elemento laranja)\n",
    "            Quicksort(A, e, index-1) # executa o Quicksort na parte cinza\n",
    "            Quicksort(A, index+1, d) # executa o Quicksort na parte laranja\n",
    "\n",
    "def Partition(A, e, d, p_index):\n",
    "    pivot = A[p_index]\n",
    "    tmp_index = d-1\n",
    "    i = e\n",
    "    \n",
    "    while (i <= d):\n",
    "        if (A[i] > pivot):\n",
    "            tmp = A[tmp_index]\n",
    "            A[tmp_index] = pivot\n",
    "            A[p_index] = A[i]\n",
    "            A[i] = tmp\n",
    "            tmp_index = tmp_index-1\n",
    "            p_index = p_index-1\n",
    "        else:\n",
    "            i = i+1\n",
    "    return i\n",
    "                      "
   ]
  },
  {
   "cell_type": "code",
   "execution_count": 64,
   "metadata": {},
   "outputs": [
    {
     "ename": "RecursionError",
     "evalue": "maximum recursion depth exceeded in comparison",
     "output_type": "error",
     "traceback": [
      "\u001b[0;31m---------------------------------------------------------------------------\u001b[0m",
      "\u001b[0;31mRecursionError\u001b[0m                            Traceback (most recent call last)",
      "\u001b[0;32m<ipython-input-64-2e60d4ddc9b9>\u001b[0m in \u001b[0;36m<module>\u001b[0;34m\u001b[0m\n\u001b[1;32m      1\u001b[0m \u001b[0mA\u001b[0m \u001b[0;34m=\u001b[0m \u001b[0mnumpy\u001b[0m\u001b[0;34m.\u001b[0m\u001b[0mrandom\u001b[0m\u001b[0;34m.\u001b[0m\u001b[0mrandint\u001b[0m\u001b[0;34m(\u001b[0m\u001b[0;34m-\u001b[0m\u001b[0;36m20\u001b[0m\u001b[0;34m,\u001b[0m \u001b[0;36m20\u001b[0m\u001b[0;34m,\u001b[0m \u001b[0;36m6\u001b[0m\u001b[0;34m)\u001b[0m\u001b[0;34m\u001b[0m\u001b[0;34m\u001b[0m\u001b[0m\n\u001b[1;32m      2\u001b[0m \u001b[0;31m#A = [7,-1,3,0,4,10]\u001b[0m\u001b[0;34m\u001b[0m\u001b[0;34m\u001b[0m\u001b[0;34m\u001b[0m\u001b[0m\n\u001b[0;32m----> 3\u001b[0;31m \u001b[0mQuicksort\u001b[0m\u001b[0;34m(\u001b[0m\u001b[0mA\u001b[0m\u001b[0;34m,\u001b[0m \u001b[0;36m0\u001b[0m\u001b[0;34m,\u001b[0m \u001b[0;36m5\u001b[0m\u001b[0;34m)\u001b[0m\u001b[0;34m\u001b[0m\u001b[0;34m\u001b[0m\u001b[0m\n\u001b[0m\u001b[1;32m      4\u001b[0m \u001b[0mprint\u001b[0m\u001b[0;34m(\u001b[0m\u001b[0mA\u001b[0m\u001b[0;34m)\u001b[0m\u001b[0;34m\u001b[0m\u001b[0;34m\u001b[0m\u001b[0m\n",
      "\u001b[0;32m<ipython-input-63-e1c063f35bee>\u001b[0m in \u001b[0;36mQuicksort\u001b[0;34m(A, e, d)\u001b[0m\n\u001b[1;32m      3\u001b[0m             \u001b[0mp_index\u001b[0m \u001b[0;34m=\u001b[0m \u001b[0md\u001b[0m \u001b[0;31m# o pivot é sempre o elemento mais à direita\u001b[0m\u001b[0;34m\u001b[0m\u001b[0;34m\u001b[0m\u001b[0m\n\u001b[1;32m      4\u001b[0m             \u001b[0mindex\u001b[0m \u001b[0;34m=\u001b[0m \u001b[0mPartition\u001b[0m\u001b[0;34m(\u001b[0m\u001b[0mA\u001b[0m\u001b[0;34m,\u001b[0m \u001b[0me\u001b[0m\u001b[0;34m,\u001b[0m \u001b[0md\u001b[0m\u001b[0;34m,\u001b[0m \u001b[0mp_index\u001b[0m\u001b[0;34m)\u001b[0m \u001b[0;31m#função que retorna o novo índice do pivô (elemento laranja)\u001b[0m\u001b[0;34m\u001b[0m\u001b[0;34m\u001b[0m\u001b[0m\n\u001b[0;32m----> 5\u001b[0;31m             \u001b[0mQuicksort\u001b[0m\u001b[0;34m(\u001b[0m\u001b[0mA\u001b[0m\u001b[0;34m,\u001b[0m \u001b[0me\u001b[0m\u001b[0;34m,\u001b[0m \u001b[0mindex\u001b[0m\u001b[0;34m-\u001b[0m\u001b[0;36m1\u001b[0m\u001b[0;34m)\u001b[0m \u001b[0;31m# executa o Quicksort na parte cinza\u001b[0m\u001b[0;34m\u001b[0m\u001b[0;34m\u001b[0m\u001b[0m\n\u001b[0m\u001b[1;32m      6\u001b[0m             \u001b[0mQuicksort\u001b[0m\u001b[0;34m(\u001b[0m\u001b[0mA\u001b[0m\u001b[0;34m,\u001b[0m \u001b[0mindex\u001b[0m\u001b[0;34m+\u001b[0m\u001b[0;36m1\u001b[0m\u001b[0;34m,\u001b[0m \u001b[0md\u001b[0m\u001b[0;34m)\u001b[0m \u001b[0;31m# executa o Quicksort na parte laranja\u001b[0m\u001b[0;34m\u001b[0m\u001b[0;34m\u001b[0m\u001b[0m\n\u001b[1;32m      7\u001b[0m \u001b[0;34m\u001b[0m\u001b[0m\n",
      "... last 1 frames repeated, from the frame below ...\n",
      "\u001b[0;32m<ipython-input-63-e1c063f35bee>\u001b[0m in \u001b[0;36mQuicksort\u001b[0;34m(A, e, d)\u001b[0m\n\u001b[1;32m      3\u001b[0m             \u001b[0mp_index\u001b[0m \u001b[0;34m=\u001b[0m \u001b[0md\u001b[0m \u001b[0;31m# o pivot é sempre o elemento mais à direita\u001b[0m\u001b[0;34m\u001b[0m\u001b[0;34m\u001b[0m\u001b[0m\n\u001b[1;32m      4\u001b[0m             \u001b[0mindex\u001b[0m \u001b[0;34m=\u001b[0m \u001b[0mPartition\u001b[0m\u001b[0;34m(\u001b[0m\u001b[0mA\u001b[0m\u001b[0;34m,\u001b[0m \u001b[0me\u001b[0m\u001b[0;34m,\u001b[0m \u001b[0md\u001b[0m\u001b[0;34m,\u001b[0m \u001b[0mp_index\u001b[0m\u001b[0;34m)\u001b[0m \u001b[0;31m#função que retorna o novo índice do pivô (elemento laranja)\u001b[0m\u001b[0;34m\u001b[0m\u001b[0;34m\u001b[0m\u001b[0m\n\u001b[0;32m----> 5\u001b[0;31m             \u001b[0mQuicksort\u001b[0m\u001b[0;34m(\u001b[0m\u001b[0mA\u001b[0m\u001b[0;34m,\u001b[0m \u001b[0me\u001b[0m\u001b[0;34m,\u001b[0m \u001b[0mindex\u001b[0m\u001b[0;34m-\u001b[0m\u001b[0;36m1\u001b[0m\u001b[0;34m)\u001b[0m \u001b[0;31m# executa o Quicksort na parte cinza\u001b[0m\u001b[0;34m\u001b[0m\u001b[0;34m\u001b[0m\u001b[0m\n\u001b[0m\u001b[1;32m      6\u001b[0m             \u001b[0mQuicksort\u001b[0m\u001b[0;34m(\u001b[0m\u001b[0mA\u001b[0m\u001b[0;34m,\u001b[0m \u001b[0mindex\u001b[0m\u001b[0;34m+\u001b[0m\u001b[0;36m1\u001b[0m\u001b[0;34m,\u001b[0m \u001b[0md\u001b[0m\u001b[0;34m)\u001b[0m \u001b[0;31m# executa o Quicksort na parte laranja\u001b[0m\u001b[0;34m\u001b[0m\u001b[0;34m\u001b[0m\u001b[0m\n\u001b[1;32m      7\u001b[0m \u001b[0;34m\u001b[0m\u001b[0m\n",
      "\u001b[0;31mRecursionError\u001b[0m: maximum recursion depth exceeded in comparison"
     ]
    }
   ],
   "source": [
    "A = numpy.random.randint(-20, 20, 6)\n",
    "#A = [7,-1,3,0,4,10]\n",
    "Quicksort(A, 0, 5)\n",
    "print(A)"
   ]
  },
  {
   "cell_type": "code",
   "execution_count": 28,
   "metadata": {},
   "outputs": [
    {
     "name": "stdout",
     "output_type": "stream",
     "text": [
      "Sorting ... \n"
     ]
    },
    {
     "data": {
      "image/png": "[encoded data removed]",
      "text/plain": [
       "<Figure size 432x288 with 1 Axes>"
      ]
     },
     "metadata": {
      "needs_background": "light"
     },
     "output_type": "display_data"
    }
   ],
   "source": [
    "q1 = queue.Queue()\n",
    "q2 = queue.Queue()\n",
    "\n",
    "print(\"Sorting ... \")\n",
    "\n",
    "for n in range(10,100, 10):\n",
    "    \n",
    "    A = numpy.random.randint(-20, 20, n) #gera vetor com números inteiros aleatórios\n",
    "\n",
    "    start = timeit.default_timer()\n",
    "    MergeSort(A, 0, n-1)\n",
    "    stop = timeit.default_timer()\n",
    "    execution_time = stop - start\n",
    "    \n",
    "    q1.put(execution_time)\n",
    "    q2.put(n)\n",
    "\n",
    "y = numpy.zeros(q1.qsize())\n",
    "i = 0\n",
    "while not q1.empty():\n",
    "    y[i] = q1.get();\n",
    "    i = i+1;\n",
    "\n",
    "x = numpy.zeros(q2.qsize())\n",
    "i = 0\n",
    "while not q2.empty():\n",
    "    x[i] = q2.get();\n",
    "    i = i+1;\n",
    "\n",
    "# plotando o gráfico\n",
    "pyplot.plot(x,y, color = \"red\")\n",
    "pyplot.xlabel(\"n\")\n",
    "pyplot.ylabel(\"t\")\n",
    "pyplot.suptitle(\"Figura 1: Custo computacional da ordenação por Merge Sort.\")\n",
    "pyplot.show()"
   ]
  },
  {
   "cell_type": "code",
   "execution_count": null,
   "metadata": {},
   "outputs": [],
   "source": []
  }
 ],
 "metadata": {
  "kernelspec": {
   "display_name": "Python 3",
   "language": "python",
   "name": "python3"
  },
  "language_info": {
   "codemirror_mode": {
    "name": "ipython",
    "version": 3
   },
   "file_extension": ".py",
   "mimetype": "text/x-python",
   "name": "python",
   "nbconvert_exporter": "python",
   "pygments_lexer": "ipython3",
   "version": "3.7.4"
  }
 },
 "nbformat": 4,
 "nbformat_minor": 2
}
