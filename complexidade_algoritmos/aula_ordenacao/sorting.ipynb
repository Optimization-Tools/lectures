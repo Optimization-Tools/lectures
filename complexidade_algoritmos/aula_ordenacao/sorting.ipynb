{
 "cells": [
  {
   "cell_type": "markdown",
   "metadata": {},
   "source": [
    "# 1. Algoritmos de Ordenação\n",
    "\n",
    "## 1.1. Insertion Sort\n",
    "\n",
    "O algoritmo de ordenação por Insertion sort é indicado em situações nas quais os dados chegam ao **longo do tempo**, dado que a sua premissa consiste em inserir cada elemento em sua posição correta no vetor de dados. A Figura 1 apresenta um exemplo de funcionamento do algoritmo Insertion sort, em que o elemento que está sendo comparado na iteração atual (variável $v$ no algoritmo) encontra-se destacado em amarelo.\n",
    "<br><br>\n",
    "\n",
    "<figure>\n",
    "<img src=\"figs/insertionsort.png\" width=\"27%\" />\n",
    "<figcaption>Figura 1: Funcionamento da técnica Insertion Sort.</figcaption>\n",
    "</figure>\n",
    "\n",
    "O algoritmo abaixo implementa a técnica Insertion sort, cuja análise de complexidade é dada da seguinte maneira:\n",
    "* Complexidade de espaço: $\\theta(n)$\n",
    "* Complexidade de tempo: $O(n^2)$\n",
    "* Estável: Sim\n",
    "* In-place: Sim"
   ]
  },
  {
   "cell_type": "code",
   "execution_count": 1,
   "metadata": {},
   "outputs": [],
   "source": [
    "from matplotlib import pyplot\n",
    "import numpy\n",
    "import math\n",
    "import timeit\n",
    "import queue\n",
    "import sys"
   ]
  },
  {
   "cell_type": "code",
   "execution_count": 2,
   "metadata": {},
   "outputs": [],
   "source": [
    "def InsertionSort(A):\n",
    "    n = len(A)\n",
    "    for i in range(2,n):\n",
    "        v = A[i]\n",
    "        j = i-1\n",
    "\n",
    "        while (A[j] > v) and (j >= 0):\n",
    "            A[j+1] = A[j]\n",
    "            j = j-1\n",
    "        A[j+1] = v\n",
    "        "
   ]
  },
  {
   "cell_type": "markdown",
   "metadata": {},
   "source": [
    "Note que o laço mais **externo** executa $n-1$ vezes, ou seja, $\\theta(n)$ vezes. A complexidade do algoritmo de Insertion sort é dominada pelo laço mais **interno**. Caso tenhamos um vetor ordenado de forma **crescente**, por exemplo, a condição `A[j+1] > v` nunca será satisfeita e, por conseguinte, o laço mais interno não será executado. Nesta situação hipotética, a complexidade seria então dada por $\\theta(n)$, que seria então a situação de **melhor caso** para o Insertion sort.\n",
    "\n",
    "Entretanto, no **pior caso**, ou seja, um vetor ordenado de forma **decrescente**, o laço mais interno será executado $i-1$ vezes para cada valor de $i$. Desta forma, teremos $i(i-1)\\approx i^2$ execuções, resultando em uma complexidade final de $O(n^2)$.\n",
    "\n",
    "Exemplo de funcionamento:"
   ]
  },
  {
   "cell_type": "code",
   "execution_count": 3,
   "metadata": {},
   "outputs": [
    {
     "name": "stdout",
     "output_type": "stream",
     "text": [
      "Vetor de entrada: [-11   5  11 -11   3  17  -9  10  -6   3]\n",
      "Vetor ordenado: [-11 -11  -9  -6   3   3   5  10  11  17]\n"
     ]
    }
   ],
   "source": [
    "A = numpy.random.randint(-20, 20, 10)\n",
    "print('Vetor de entrada: '+ str(A))\n",
    "InsertionSort(A)\n",
    "print('Vetor ordenado: '+ str(A))"
   ]
  },
  {
   "cell_type": "markdown",
   "metadata": {},
   "source": [
    "## 1.2. Merge sort\n",
    "\n",
    "O algoritmo de ordenação por Merge sort é baseado na metodologia de **divisão e conquista**, em que o problema principal é dividido em subproblemas que são resolvidos e, posteriormente, agrupados com o intuito de gerar a solução final. A divisão é realizada em $\\theta(1)$, ao passo que a conquista é realizada em $\\theta(n)$. De maneira geral, a ténica realiza divisões no vetor pela metade, até que um único elemento é obtido. Em seguida, o processo de conquista é realizado, em que os elementos são agrupados de maneira ordenada. A Figura 2 apresenta esse processo, em que os elementos cinza denotam a primeira metade do vetor, e os elementos em azul correspondem ao final da etapa de divisão.\n",
    "<br><br>\n",
    "\n",
    "<figure>\n",
    "<img src=\"figs/mergesort.png\" width=\"50%\" />\n",
    "<figcaption>Figura 2: Funcionamento da técnica Merge Sort.</figcaption>\n",
    "</figure>\n",
    "\n",
    "O algoritmo abaixo implementa a técnica Merge sort, cuja análise de complexidade é dada da seguinte maneira:\n",
    "* Complexidade de espaço: 2$\\theta(n)$\n",
    "* Complexidade de tempo: $\\theta(n\\log n)$\n",
    "* Estável: Sim\n",
    "* In-place: Não\n",
    "\n",
    "A complexidade de tempo pode ser calculada por meio do **Teorema Mestre** da seguinte maneira:\n",
    "\n",
    "\\begin{equation}\n",
    "\\tag{1}\n",
    "\\label{e.recurrence_analysis_mergesort_part1}\n",
    "T(n) =\n",
    "    \\begin{cases}\n",
    "      1 & \\text{se $n=1$}\\\\\n",
    "      aT\\left(\\frac{n}{b}\\right) + f(n)& \\text{caso contrário.}\n",
    "    \\end{cases}  \n",
    "\\end{equation}\n",
    "\n",
    "Como pode ser observado, a função `MergeSort` é invocada duas vezes de maneira recursiva, em que cada chamada é realizada em metade do vetor. Desta forma, temos que $a=b=2$. \n",
    "\n",
    "Entretanto, falta ainda analisarmos o termo **residual** $f(n)$ da Equação \\ref{e.recurrence_analysis_mergesort_part1}, o qual é composto por três laços: (i) o primeiro deles copia a primeira metade do vetor de dados de entrada $A$ para o vetor **auxiliar** $B$ e possui complexidade de tempo $\\theta\\left(\\frac{n}{n}\\right)\\in\\theta(n)$; (ii) o segundo laço copia a segunda metade do vetor $A$ em $B$, porém de maneira invertida, e também possui complexidade de tempo $\\theta\\left(\\frac{n}{n}\\right)\\in\\theta(n)$; e (iii) o último laço copia os elementos de $B$ no vetor de dados de entrada $A$ de maneira ordenada, ou seja, nesta etapa é realizada a junção (*merge*) dos dados, e possui complexidade $\\theta(n)$. Desta forma, o termo residual, ou seja, a conquista, possui complexidade $\\theta(n)$.\n",
    "\n",
    "Assim sendo, podemos reescrever a Equação \\ref{e.recurrence_analysis_mergesort_part1} da seguinte maneira:\n",
    "\n",
    "\\begin{equation}\n",
    "\\tag{2}\n",
    "\\label{e.recurrence_analysis_mergesort_part2}\n",
    "T(n) =\n",
    "    \\begin{cases}\n",
    "      1 & \\text{se $n=1$}\\\\\n",
    "      2T\\left(\\frac{n}{2}\\right) + n& \\text{caso contrário.}\n",
    "    \\end{cases}  \n",
    "\\end{equation}\n",
    "O termo residual pode ser mapeado para a forma $cn^k$ assumindo $c=k=1$. Desta forma, de acordo com o Teorema Mestre, a complexidade final de tempo do Merge Sort é dada por $\\theta(n^k\\log_bn)=\\theta(n\\log n)$."
   ]
  },
  {
   "cell_type": "code",
   "execution_count": 4,
   "metadata": {},
   "outputs": [],
   "source": [
    "def MergeSort(A, e, d):\n",
    "    if (d > e):\n",
    "        \n",
    "        #Divisão é realizada em theta(1) *****\n",
    "        m = math.floor((e+d)/2) \n",
    "        MergeSort(A, e, m)\n",
    "        MergeSort(A, m+1, d)\n",
    "        # Fim da divisão **********************\n",
    "        \n",
    "        # Conquista é realizada em theta(n) ***\n",
    "        B = numpy.zeros(d+1);\n",
    "        \n",
    "        for k in range(0, m+1):\n",
    "            B[k] = A[k]\n",
    "        \n",
    "        j = d\n",
    "        for k in range(m+1, d+1):\n",
    "            B[j] = A[k]\n",
    "            j = j-1\n",
    "        \n",
    "        i = e\n",
    "        j = d\n",
    "        for k in range(e, d+1):\n",
    "            if(B[i] < B[j]):\n",
    "                A[k] = B[i]\n",
    "                i = i+1\n",
    "            else:\n",
    "                A[k] = B[j]\n",
    "                j = j-1\n",
    "        # Fim da conquista ********************"
   ]
  },
  {
   "cell_type": "markdown",
   "metadata": {},
   "source": [
    "Exemplo de funcionamento:"
   ]
  },
  {
   "cell_type": "code",
   "execution_count": 5,
   "metadata": {},
   "outputs": [
    {
     "name": "stdout",
     "output_type": "stream",
     "text": [
      "Vetor de entrada: [-3 17 -5  4 -6 -7  7 -7  2 -7]\n",
      "Vetor ordenado: [-7 -7 -7 -6 -5 -3  2  4  7 17]\n"
     ]
    }
   ],
   "source": [
    "A = numpy.random.randint(-20, 20, 10)\n",
    "print('Vetor de entrada: '+ str(A))\n",
    "MergeSort(A, 0, 9)\n",
    "print('Vetor ordenado: '+ str(A))"
   ]
  },
  {
   "cell_type": "markdown",
   "metadata": {},
   "source": [
    " ## 1.3. Quicksort\n",
    " \n",
    "O algoritmo de ordenação Quicksort também é baseado na metodologia de divisão e conquista, em que esta última é realizada em tempo $\\theta(1)$, ao passo que o \"gargalo\" da técnica está justamente na etapa de divisão. O algoritmo faz uso de um elemento denominado **pivô**, e assume que os elementos à **esquerda** deste são menores ou iguais à ele; ao passo que os elementos à sua **direita** são maiores ou iguais ao pivô. Note que, não necessariamente, os elementos que estão à esquerda e à direita estarão ordenados entre si.\n",
    "\n",
    "Desta forma, a complexidade de tempo do Quicksort depende, necessariamente, da **posição** do pivô durate a execução do algoritmo. Se conseguíssemos garantir que o pivô sempre dividisse o vetor de entrada ao meio, então a a complexidade de ordenação seria igual à do Merge sort, ou seja, $\\theta(n\\log n)$. Entretanto, essa garantia não é possível de ser assegurada. A Figura 3 apresenta o funcionamento da técnica Quicksort, em que os elementos à esquerda do pivô são representador pela cor cinza, os elementos azuis correspondem aos valores que são maiores ou iguais ao pivô e, finalmente, o pivô está representado em laranja.\n",
    "<br><br>\n",
    "\n",
    "<figure>\n",
    "<img src=\"figs/quicksort.png\" width=\"37%\" />\n",
    "<figcaption>Figura 3: Funcionamento da técnica Quicksort.</figcaption>\n",
    "</figure>\n",
    "\n",
    "O algoritmo abaixo implementa a técnica Quicksort, cuja análise de complexidade é dada da seguinte maneira:\n",
    "* Complexidade de espaço: $\\theta(n)$\n",
    "* Complexidade de tempo: $O(n^2)$, porém sua complexidade no caso médio é de $O(n\\log n)$\n",
    "* Estável: Não\n",
    "* In-place: Sim\n"
   ]
  },
  {
   "cell_type": "code",
   "execution_count": 6,
   "metadata": {},
   "outputs": [],
   "source": [
    "def Quicksort(A, e, d):\n",
    "    if (d > e):\n",
    "            index = Partition(A, e, d) #função que retorna o novo índice do pivô (elemento laranja)\n",
    "            Quicksort(A, e, index-1) # executa o Quicksort na parte cinza\n",
    "            Quicksort(A, index+1, d) # executa o Quicksort na parte laranja\n",
    "\n",
    "def Partition(A, e, d):\n",
    "    pivot = A[d]\n",
    "    p_index = e\n",
    "\n",
    "    for i in range(e,d):\n",
    "        if (A[i] <= pivot):\n",
    "            A[i], A[p_index] = A[p_index], A[i]\n",
    "            p_index = p_index + 1\n",
    "        \n",
    "    A[p_index], A[d] = A[d], A[p_index]\n",
    "\n",
    "    return p_index"
   ]
  },
  {
   "cell_type": "markdown",
   "metadata": {},
   "source": [
    "Exemplo de funcionamento:"
   ]
  },
  {
   "cell_type": "code",
   "execution_count": 7,
   "metadata": {},
   "outputs": [
    {
     "name": "stdout",
     "output_type": "stream",
     "text": [
      "Vetor de entrada: [  1   4   6 -19  13 -19]\n",
      "Vetor ordenado: [-19 -19   1   4   6  13]\n"
     ]
    }
   ],
   "source": [
    "A = numpy.random.randint(-20, 20, 6)\n",
    "print('Vetor de entrada: '+ str(A))\n",
    "Quicksort(A, 0, 5)\n",
    "print('Vetor ordenado: '+ str(A))"
   ]
  },
  {
   "cell_type": "markdown",
   "metadata": {},
   "source": [
    "## 1.4. Heapsort\n",
    "\n",
    "O algoritmo de ordenação Heapsort é uma técnica baseada em comparações, cujo funcionamento é dividido em três partes: (i) construção de um heap (usualmente binário) a partir dos dados de entrada, (ii) trocar a raiz com o último elemento, e (iii) remover remover este último nó. Note que este último passo exige que o heap seja atualizado a cada remoção de tal forma a manter suas propriedades. Para uma ordenação **crescente**, devemos utilizar um **heap máximo**, ao passo que para uma ordenação **decrescente** deve-se empregar um **heap mínimo**. \n",
    "\n",
    "A primeira parte, como citado anteriormente, consiste em transformar um vetor de entrada em um **heap binário**, o qual, por sua vez, utiliza uma estrutura de **árvore binária**. Isto pode ser feito, basicamente, por meio de uma associação de índices do próprio vetor, como apresenta a Figura 4. \n",
    "<br><br>\n",
    "\n",
    "<figure>\n",
    "<img src=\"figs/array2btree.png\" width=\"25%\" />\n",
    "<figcaption>Figura 4: Mapeando um vetor para uma árvore binária.</figcaption>\n",
    "</figure>\n",
    "\n",
    "Neste caso, temos que a raiz é representada pelo elemento $A[0]$, cujos filhos são os elementos $A[1]$ e $A[2]$. Por conseguinte, os filhos do nó $A[1]$ são dados por $A[3]$ e $A[4]$, e o último nó representado por $A[5]$. Assim sendo, temos que:\n",
    "\n",
    "* A[0]: possui como filhos $A[1]$ e $A[2]$, ou seja, $A[i+1]$ e $A[i+2]$ para $i=0$.\n",
    "* A[1]: possui como filhos $A[3]$ e $A[4]$, ou seja, $A[i+2]$ e $A[i+3]$ para $i=1$.\n",
    "* A[2]: possui como filho $A[5]$, ou seja, $A[i+3]$ para $i=2$.\n",
    "\n",
    "Podemos, então, generalizar da seguinte forma: $A[i]$ possui como filhos os elementos $A[2i+1]$ e $A[2i+2]$.\n",
    "\n",
    "Em seguida, precisamos verificar se o heap obedece à propriedade de um heap máximo, ou seja, o valor armazenado em um nó pai tem que ser maior ou igual ao(s) valor(es) armazenzado(s) em seu(s) nó(s) filho(s). A Figura 5 apresenta essa metodologia.\n",
    "<br><br>\n",
    "\n",
    "<figure>\n",
    "<img src=\"figs/btree2maxheap.png\" width=\"37%\" />\n",
    "<figcaption>Figura 5: Mapeando uma árvore árvore binária para um heap máximo.</figcaption>\n",
    "</figure>\n",
    "\n",
    "Em seguida, o nó raiz (maior valor) é removido e inserido na última posição do vetor, e o último nó do heap toma o seu lugar. Entretanto, após esta operação, precisamos verificar se o heap obedece à propriedade de heap máximo, ou seja, um nó filho tem sempre um valor menor ou igual ao seu pai (procedimento implementado pela função `Heapify` no algoritmo abaixo). Após atualizarmos a estrutura, o procedimento todo é repetido novamente até que todos os elementos tenham sido removidos do heap. A Figura 6 ilustra este procedimento.\n",
    "<br><br>\n",
    "\n",
    "<figure>\n",
    "<img src=\"figs/heapsort.png\" width=\"87%\" />\n",
    "<figcaption>Figura 6: Funcionamento da técnica Heapsort.</figcaption>\n",
    "</figure>\n",
    "\n",
    "O algoritmo abaixo implementa a técnica Heapsort, cuja análise de complexidade é dada da seguinte maneira:\n",
    "* Complexidade de espaço: $\\theta(n)$\n",
    "* Complexidade de tempo: $O(n\\log n)$\n",
    "* Estável: Não\n",
    "* In-place: Sim"
   ]
  },
  {
   "cell_type": "code",
   "execution_count": 35,
   "metadata": {},
   "outputs": [],
   "source": [
    "#Algoritmo baseado no código disponível em https://www.tutorialspoint.com/python-program-for-heap-sort\n",
    "\n",
    "# função que verifica se um heap obedece às propriedades de heap máximo\n",
    "def Heapify(A, n, i):\n",
    "    \n",
    "    maior = i # maior valor\n",
    "    l = 2*i + 1 # filho à esquerda\n",
    "    r = 2*i + 2 # filho à esquerda\n",
    "\n",
    "    # verifica se filho à esquerda existe e quem possui o maior valor\n",
    "    if (l < n) and (A[i] < A[l]):\n",
    "        maior = l\n",
    "        \n",
    "    # verifica se filho à direita existe e quem possui o maior valor\n",
    "    if (r < n) and (A[maior] < A[r]):\n",
    "        maior = r\n",
    "    \n",
    "    # analisa raiz\n",
    "    if (maior != i):\n",
    "        A[i],A[maior] = A[maior],A[i] # faz a troca entre a raiz e o maior valor encontrado\n",
    "\n",
    "        # executa todo o processo novamente\n",
    "        Heapify(A, n, maior)\n",
    "\n",
    "# Heapsort\n",
    "def Heapsort(A):\n",
    "    \n",
    "    n = len(A)\n",
    "    \n",
    "    # cria o heap máximo\n",
    "    for i in range(n-1, -1, -1):\n",
    "        Heapify(A, n, i)\n",
    "        \n",
    "    # remoção da raiz e sua inserção na posição correta do vetor ordenado\n",
    "    for i in range(n-1, 0, -1):\n",
    "\n",
    "        A[i], A[0] = A[0], A[i]\n",
    "        Heapify(A, i, 0)"
   ]
  },
  {
   "cell_type": "markdown",
   "metadata": {},
   "source": [
    "Note que o primeiro laço da função `Heapsort`executa $n+1$ vezes, ou seja, $\\theta(n)$ vezes, ao passo que o segundo laço executa, também, $\\theta(n)$ vezes. Agora, precisamos calcular a complexidade da função `Heapify`, a qual objetiva manter a estrutura de acordo com as propriedades de um heap máximo, conforme mencionado anteriormente. Como a criação do heap objetiva a construção de uma árvore binária balanceada, sabemos que sua altura pode ser dada por $O(\\log n)$. No pior caso, ou seja, quando um nó folha precisa ser movido até a raiz, temos que um número $O(\\log n)$ de comparações deve ser efetuado até que a propriedade do heap máximo seja satisfeita. Desta forma, temos que a função `Heapify` possui complexidade $O(\\log n)$, resultando em uma complexidade final de $O(n\\log n)$ para o algoritmo do Heapsort.\n",
    "\n",
    "Exemplo de funcionamento:"
   ]
  },
  {
   "cell_type": "code",
   "execution_count": 36,
   "metadata": {},
   "outputs": [
    {
     "name": "stdout",
     "output_type": "stream",
     "text": [
      "Vetor de entrada: [16 -9 18 -2  8  2]\n",
      "Vetor ordenado: [-9 -2  2  8 16 18]\n"
     ]
    }
   ],
   "source": [
    "A = numpy.random.randint(-20, 20, 6)\n",
    "print('Vetor de entrada: '+ str(A))\n",
    "Heapsort(A)\n",
    "print('Vetor ordenado: '+ str(A))"
   ]
  },
  {
   "cell_type": "code",
   "execution_count": null,
   "metadata": {},
   "outputs": [],
   "source": []
  }
 ],
 "metadata": {
  "kernelspec": {
   "display_name": "Python 3",
   "language": "python",
   "name": "python3"
  },
  "language_info": {
   "codemirror_mode": {
    "name": "ipython",
    "version": 3
   },
   "file_extension": ".py",
   "mimetype": "text/x-python",
   "name": "python",
   "nbconvert_exporter": "python",
   "pygments_lexer": "ipython3",
   "version": "3.7.4"
  }
 },
 "nbformat": 4,
 "nbformat_minor": 2
}
