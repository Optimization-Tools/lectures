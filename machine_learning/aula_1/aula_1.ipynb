{
 "cells": [
  {
   "cell_type": "markdown",
   "metadata": {},
   "source": [
    "# 1. Regressão Linear\n",
    "## 1.1. Univariada\n",
    "\n",
    "Existem diversos problemas na natureza para os quais procura-se obter valores de saída dado um conjunto de dados de entrada. Suponha o problema de predizer os valores de imóveis de uma determinada cidade, conforme apresentado na Figura 1, em que podemos observer vários pontos que representam diferentes imóveis, cada qual com seu preço de acordo com o seu tamanho. \n",
    "\n",
    "Em problemas de **regressão**, objetiva-se estimar valores de saída de acordo com um conjunto de valores de entrada. Desta forma, considerando o problema anterior, a ideia consiste em estimar o preço de uma casa de acordo com o seu tamanho, isto é, gostaríamos de encontrar uma **linha reta** que melhor se adequa ao conjunto de pontos na Figura 1."
   ]
  },
  {
   "cell_type": "code",
   "execution_count": null,
   "metadata": {},
   "outputs": [
    {
     "name": "stderr",
     "output_type": "stream",
     "text": [
      "Matplotlib is building the font cache using fc-list. This may take a moment.\n"
     ]
    }
   ],
   "source": [
    "from sklearn.datasets import make_regression\n",
    "from sklearn.model_selection import train_test_split \n",
    "from sklearn.linear_model import LinearRegression\n",
    "from sklearn import metrics\n",
    "from matplotlib import pyplot\n",
    "import numpy"
   ]
  },
  {
   "cell_type": "code",
   "execution_count": null,
   "metadata": {
    "scrolled": true
   },
   "outputs": [],
   "source": [
    "# gerando um conjunto de pontos aleatórios para um problema de regressão linear ***\n",
    "x, y = make_regression(n_samples=100, n_features=1, noise=5.7)\n",
    "\n",
    "# apresenta o conjunto de dados criado no passo anterior ***\n",
    "fig = pyplot.figure(figsize=(15,7))\n",
    "\n",
    "pyplot.subplot(1, 2, 1)\n",
    "pyplot.scatter(x,y)\n",
    "pyplot.xlabel(\"Tamanho ($m^2$)\")\n",
    "pyplot.ylabel(\"Preço (R\\$x$10^3$)\")\n",
    "pyplot.title(\"(a)\")\n",
    "\n",
    "# executando regressor linear\n",
    "x_train, x_test, y_train, y_test = train_test_split(x, y, test_size=0.2, random_state=0) #criando partições\n",
    "model = LinearRegression()  \n",
    "model.fit(x_train, y_train) # treinando o algoritmo\n",
    "\n",
    "pyplot.subplot(1, 2, 2)\n",
    "pyplot.scatter(x,y)\n",
    "pyplot.plot(x, model.predict(x), color = 'red')\n",
    "pyplot.xlabel(\"Tamanho ($m^2$)\")\n",
    "pyplot.ylabel(\"Preço (R\\$x$10^3$)\")\n",
    "pyplot.title(\"(b)\")\n",
    "\n",
    "fig.tight_layout(pad=10)\n",
    "fig.suptitle(\"Figura 1: Exemplo de conjunto de dados de valores imobiliários: (a) conjunto de dados de entrada e (b) linha reta estimada via regressão linear.\", y=0.18)\n",
    "pyplot.show()"
   ]
  },
  {
   "cell_type": "markdown",
   "metadata": {},
   "source": [
    "Seja um conjunto de dados ${\\cal D}=\\{(x_1,y_1),(x_2,y_2),\\ldots,(x_m,y_m)\\}$ tal que $x_i\\in\\Re$ denota o conjunto dos dados de **entrada** (isto é, o tamanho da casa) e $y_i\\in\\Re$ representa o seu valor. Além disso, seja ${\\cal D}_{tr}\\subset {\\cal D}$ o chamado **conjunto de treinamento** e ${\\cal D}_{ts}\\subset {\\cal D}\\backslash{\\cal D}_{tr}$ o **conjunto de teste**. Usualmente, técnicas de aprendizado de máquina são avaliadas em conjuntos de treinamento e teste disjuntos, ou seja, temos que ${\\cal D}_{tr}$ e ${\\cal D}_{ts}$ são denominados **partições** do conjunto original ${\\cal D}$. Em nosso exemplo, temos que $x_i$ e $y_i$ correspondem ao tamanho e preço do imóvel, respectivamente.\n",
    "\n",
    "Basicamente, um algoritmo de regressão linear recebe como entrada um conjunto de dados de treinamento e objetiva estimar uma função linear (reta) a qual chamamos de **função hipótese**, dada por:\n",
    "\\begin{equation}\n",
    "h_\\textbf{w}(x) = w_0+w_1x,\n",
    "\\tag{1}\n",
    "\\end{equation}\n",
    "em que $\\textbf{w}=[w_0\\ w_1]$ corresponde aos parâmetros do modelo. Dependendo dos valores assumidos por $\\textbf{w}$, a função hipótese pode assumir diferentes comportamentos, conforme ilustra a Figura 2."
   ]
  },
  {
   "cell_type": "code",
   "execution_count": null,
   "metadata": {},
   "outputs": [],
   "source": [
    "fig = pyplot.figure(figsize=(15,7))\n",
    "\n",
    "x = numpy.arange(-10, 10, 0.5)\n",
    "\n",
    "pyplot.subplot(2, 2, 1)\n",
    "y = 1.5 + 0*x #h_w(x) = 1.5 + w_1*0\n",
    "pyplot.plot(x, y, color = \"red\")\n",
    "pyplot.title(\"$h_\\textbf{w}(x) = 1.5$   $(w_0 = 1$ e $w_1 = 1)$\")\n",
    "\n",
    "pyplot.subplot(2, 2, 2)\n",
    "y = 0 + 0.5*x #h_w(x) = 0 + 0.5*x\n",
    "pyplot.plot(x, y, color = \"red\")\n",
    "pyplot.title(\"$h_\\textbf{w}(x) = 0.5x$   $(w_0 = 0$ e $w_1 = 0.5)$\")\n",
    "\n",
    "pyplot.subplot(2, 2, 3)\n",
    "y = 1 + 0.5*x #h_w(x) = 1 + 0.5*x\n",
    "pyplot.plot(x, y, color = \"red\")\n",
    "pyplot.title(\"$h_\\textbf{w}(x) = 1 + 0.5x$   $(w_0 = 1$ e $w_1 = 0.5)$\")\n",
    "\n",
    "pyplot.subplot(2, 2, 4)\n",
    "y = 0 - 0.5*x #h_w(x) = 0 - 0.5*x\n",
    "pyplot.plot(x, y, color = \"red\")\n",
    "pyplot.title(\"$h_\\textbf{w(x) = 0 - 0.5*x$\")\n",
    "\n",
    "fig.tight_layout(pad=2)\n",
    "fig.suptitle(\"Figura 2: Exemplos de diferentes funções hipótese.\", y=0.01)\n",
    "pyplot.show()"
   ]
  },
  {
   "cell_type": "markdown",
   "metadata": {},
   "source": [
    "De maneira geral, o objetivo da regressão linear é encontrar valores para $\\textbf{w}=[w_0\\ w_1]$ de tal forma que $h_w(x_i)$ é o mais próximo possível de $y_i$ considerando o conjunto de treinamento ${\\cal D}_{tr}$, $\\forall i\\in\\{1,2,\\ldots,m^\\prime\\}$, em que $m^\\prime=\\left|{\\cal D}_{tr}\\right|$. Em outras palavras, o objetivo consiste em resolver o seguinte problema de minimização:\n",
    "\n",
    "\\begin{equation}\n",
    "\\label{e.mse}\n",
    "\\underset{\\textbf{w}}{\\operatorname{argmin}}\\frac{1}{2m^\\prime}\\sum_{i=1}^{m^\\prime}(h_w(x_i)-y_i)^2,\n",
    "\\tag{3}\n",
    "\\end{equation}"
   ]
  },
  {
   "cell_type": "code",
   "execution_count": null,
   "metadata": {},
   "outputs": [],
   "source": []
  },
  {
   "cell_type": "code",
   "execution_count": null,
   "metadata": {},
   "outputs": [],
   "source": []
  }
 ],
 "metadata": {
  "kernelspec": {
   "display_name": "Python 3",
   "language": "python",
   "name": "python3"
  },
  "language_info": {
   "codemirror_mode": {
    "name": "ipython",
    "version": 3
   },
   "file_extension": ".py",
   "mimetype": "text/x-python",
   "name": "python",
   "nbconvert_exporter": "python",
   "pygments_lexer": "ipython3",
   "version": "3.7.6"
  }
 },
 "nbformat": 4,
 "nbformat_minor": 2
}
